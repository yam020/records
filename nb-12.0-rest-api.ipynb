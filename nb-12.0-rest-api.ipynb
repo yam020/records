{
 "cells": [
  {
   "cell_type": "markdown",
   "metadata": {},
   "source": [
    "# Notebook 12.0 RESTful GBIF\n",
    "\n",
    "This notebook will introduce you to methods for access and parse data from online databases by accessing websites that have RESTful APIs. \n",
    "\n",
    "### Learning objectives\n",
    "- Gain familiarity with the GBIF biological database\n",
    "- Understand the structure of REST API requests\n",
    "- Be able to use the `request` Python library to query REST APIs"
   ]
  },
  {
   "cell_type": "markdown",
   "metadata": {},
   "source": [
    "### Required software\n",
    "Install the following with conda before running this notebook"
   ]
  },
  {
   "cell_type": "code",
   "execution_count": 3,
   "metadata": {},
   "outputs": [],
   "source": [
    "# conda install pandas requests toyplot -c conda-forge"
   ]
  },
  {
   "cell_type": "code",
   "execution_count": 4,
   "metadata": {},
   "outputs": [],
   "source": [
    "import toyplot\n",
    "import requests\n",
    "import pandas as pd"
   ]
  },
  {
   "cell_type": "markdown",
   "metadata": {},
   "source": [
    "### The design of REST APIs. \n",
    "The idea behind REST APIs is that data on a server (like a webpage) can be accessed with a consistent type of argument in the form of a URL, to query data which will then be returned in a form that is easy to analyze (usually json or xml), as opposed to being returned in messy HTML that needs to be parsed. Many websites have REST APIs, but some are much easier to use than others. "
   ]
  },
  {
   "cell_type": "markdown",
   "metadata": {},
   "source": [
    "### Limits\n",
    "Many REST APIs have limits on the way that you can use them. For example, the REST APIs for Twitter, GitHub, and Reddit require that you login in order to access data, and some sites will throttle how many requests you can make per hour. In this notebook we will be focusing on accessing data from websites that *are designed to be queried* -- they purposefully created an API for this purpose. It's worth noting that there exists other methods to parse data from the raw HTML representation of websites, but that is not our focus here. By contrast, sites with API access typically have data stored in a server database that allows efficient access to even enormous datasets with billions of records (e.g., Twitter)."
   ]
  },
  {
   "cell_type": "markdown",
   "metadata": {},
   "source": [
    "### Good REST APIs\n",
    "A good REST API will have good documentation explaining its intended usage. Two very good examples are the [USDA Bison API](https://bison.usgs.gov/#api) and the [Global Biodiversity Information Facility (GBIF) API](https://www.gbif.org/developer/summary). We'll focus on the latter in this notebook. The GBIF database is an international effort to collect all observation data on plants, animals, and fungi into a single place where it can be searched. It is actually a conglomeration of many separate databases, with data from museums and similar institutions all over the world. These APIs are free to use but request that you cite them if the data is used in a publication eventually. \n",
    "\n",
    "(Although GBIF is free to use it does limit the size of a request you can make at once, but there are ways around this as explained in its documentation.)"
   ]
  },
  {
   "cell_type": "markdown",
   "metadata": {},
   "source": [
    "### What does GBIF do?\n",
    "GBIF can be used to find specimen collection records, or other types of observation data, stored in museum type databases. The website offers a convenient way to request taxa by name, and to select specific research criteria. For example, if we wanted to find all specimens of bumblebees (genus *Bombus*) that were collected between 1910 and 1920 we could request this through the website. It will draw a nice map with their locations and you can download a table with coordinates of where they were collected. This is actually one of the best databases around, since it organizes the data quite easily for you to download, but nevertheless, we'll use it as our example to learn REST APIs. "
   ]
  },
  {
   "cell_type": "markdown",
   "metadata": {},
   "source": [
    "### REST APIs and websites\n",
    "It's worth noting that the GBIF website itself is designed around the REST API. When you fill in the search form on the site to tell it to search a particular species from a particular area, its response is collected from the database in the same way that your response would be when you make the same request using a URL passed to the API. The website simply takes this response (likely in JSON format) and renders it nicely into a table or map for you to view on the website. This is how many websites work!"
   ]
  },
  {
   "cell_type": "markdown",
   "metadata": {},
   "source": [
    "Even though GBIF has a very nice web interface, it is obviously often more efficient to be able to query this database programmatically, instead of having to type each name we wish to search, and click on several buttons. This can provide a much more powerful way of applying filters over many different types of searches. That is the idea behind REST APIs and the reason why GBIF provides one. "
   ]
  },
  {
   "cell_type": "markdown",
   "metadata": {},
   "source": [
    "### The base-url\n",
    "The base URL is the web address of the API. This is simply a string that we wil add arguments to in order to request particular types of data be returned to use from the database. For GBIF this is the following, which we'll store as a string for now. This base-url address is given to us right at the top of the [GBIF API documentation](https://www.gbif.org/developer/occurrence). You can see that it looks much like any other web address. "
   ]
  },
  {
   "cell_type": "code",
   "execution_count": 5,
   "metadata": {},
   "outputs": [],
   "source": [
    "# store the base url as a string variable\n",
    "baseurl = \"http://api.gbif.org/v1/occurrence/search?\""
   ]
  },
  {
   "cell_type": "markdown",
   "metadata": {},
   "source": [
    "### How to query GBIF\n",
    "As you can see in the URL below, an API query just has additional arguments added to the baseurl. The string below searches for records with the name *Bombus*, which is the genus for bumblebees. We've added just the 'query' option 'q' and the name. How did I know that 'q' was valid parameter to this API? By reading the documentation.\n",
    "\n",
    "We'll see next how to make more complex queries. But first, copy the URL below (without the quotation marks around it) and paste it into a web browser. This will show you what the returned data looks like. It might look a bit different depending on which browser you are using (I recommend using firefox or chrome) but the underlying data is the same, and is called JSON data."
   ]
  },
  {
   "cell_type": "code",
   "execution_count": 6,
   "metadata": {},
   "outputs": [],
   "source": [
    "# store a endpoint request as a string variable\n",
    "search_url = \"http://api.gbif.org/v1/occurrence/search?q=Bombus\""
   ]
  },
  {
   "cell_type": "markdown",
   "metadata": {},
   "source": [
    "### JSON format\n",
    "We will be using the `requests` library to get data from online, but before we do, let's talk a bit about how the data will be structured so we know what to expect. The data that you should see in your browser now is called JSON formatted data.  You'll notice that this format is almost identical to what a Python dictionary looks like. It is composed of key:value pairs. This will make it particularly easy to work with. "
   ]
  },
  {
   "cell_type": "markdown",
   "metadata": {},
   "source": [
    "### Requests\n",
    "\n",
    "[Documentation](http://docs.python-requests.org/en/master/user/quickstart/)\n",
    "\n",
    "The `requests` package work a bit like an automated web browser. We've used `requests` briefly in the past but now we'll start to use it more effectively. The main function we will call is `.get()`, which will send a GET command (a form of HTTP method that the web is built on) to the web address and return a Response Class object. We will then access attributes and functions of the Response instance to see if our request worked, and to parse the resulting text from it. Let's try this on our `search_url` string defined above. "
   ]
  },
  {
   "cell_type": "code",
   "execution_count": 7,
   "metadata": {},
   "outputs": [],
   "source": [
    "# create a Response instance from a request\n",
    "response = requests.get(search_url)"
   ]
  },
  {
   "cell_type": "code",
   "execution_count": 8,
   "metadata": {},
   "outputs": [
    {
     "data": {
      "text/plain": [
       "200"
      ]
     },
     "execution_count": 8,
     "metadata": {},
     "output_type": "execute_result"
    }
   ],
   "source": [
    "# check that your request worked (200 = worked; other codes No))\n",
    "response.status_code "
   ]
  },
  {
   "cell_type": "code",
   "execution_count": 9,
   "metadata": {},
   "outputs": [],
   "source": [
    "# or, run this to check if it worked.\n",
    "# This would return an error message if it didn't work (else None)\n",
    "response.raise_for_status()"
   ]
  },
  {
   "cell_type": "markdown",
   "metadata": {},
   "source": [
    "### Parse a Response\n",
    "Before when we've used `requests` we've parsed the results as plain text, since it was usually in a format that was easiest to work with as a string (we used requests in an early notebook to download iris-data-dirty.csv). In this case, we are going to access the data a bit differently, by instead  accessing it in JSON format. This is easily available from the object just like text is. The first is not very easily readable or parseable, whereas the second can be accessed and searched more easily. "
   ]
  },
  {
   "cell_type": "code",
   "execution_count": 10,
   "metadata": {},
   "outputs": [
    {
     "data": {
      "text/plain": [
       "'{\"offset\":0,\"limit\":20,\"endOfRecords\":false,\"count\":2668746,\"results\":[{\"key\":1736840426,\"datasetKey\":\"4fa7b334-ce0d-4e88-aaae-2e0c138d049e\",\"publishingOrgKey\":\"e2e717bf-551a-4917-bdc9-4fa0f342c530\",\"installationKey\":\"7182d304-b0a2-404b-baba-2086a325c221\",\"publishingCountry\":\"EC\",\"protocol\":\"DWC_ARCHIVE\",\"lastCrawled\":\"2020-06-30T08:20:54.124+00:00\",\"lastParsed\":\"2020-12-16T12:05:42.432+00:00\",\"crawlId\":13,\"hostingOrganizationKey\":\"e2e717bf-551a-4917-bdc9-4fa0f342c530\",\"extensions\":{},\"basisOfRe'"
      ]
     },
     "execution_count": 10,
     "metadata": {},
     "output_type": "execute_result"
    }
   ],
   "source": [
    "# first 500 characters of the .text string from GBIF API query\n",
    "response.text[:500]"
   ]
  },
  {
   "cell_type": "markdown",
   "metadata": {},
   "source": [
    "As you can see above, the result is a string. But we want it to be parsed as a dictionary. The `.json()` function of the response object will do this for us."
   ]
  },
  {
   "cell_type": "code",
   "execution_count": 11,
   "metadata": {},
   "outputs": [
    {
     "data": {
      "text/plain": [
       "['offset', 'limit', 'endOfRecords', 'count', 'results', 'facets']"
      ]
     },
     "execution_count": 11,
     "metadata": {},
     "output_type": "execute_result"
    }
   ],
   "source": [
    "# or, get results as a dictionary (JSON converted)\n",
    "rdict = response.json()\n",
    "\n",
    "# get some quick info on the dictionary keys\n",
    "list(rdict.keys())"
   ]
  },
  {
   "cell_type": "markdown",
   "metadata": {},
   "source": [
    "### Parsing the results\n",
    "In GBIF our response can be parsed into a dictionary object using the JSON format, and this has six keys shown above. These are explained in the API docs, and correspond to information about what records are available for our query. However, it did not return *all* of the data for those records to us yet. That would be too easy. Instead, databases usually have limits on the amount of data from each request as a way of limiting the bandwidth they will need for sending the data, and to make it faster. For GBIF the default number, shown under the \"limit\" key, is 20. And the default starting position, shown under \"offset\" is 0. The total number of records is in \"count\". So for *Bombus*, as we show below, there are >2M records, but only records 1-20 were returned to us so far."
   ]
  },
  {
   "cell_type": "code",
   "execution_count": 12,
   "metadata": {},
   "outputs": [
    {
     "data": {
      "text/plain": [
       "2668746"
      ]
     },
     "execution_count": 12,
     "metadata": {},
     "output_type": "execute_result"
    }
   ],
   "source": [
    "## how many records are there for this query\n",
    "rdict[\"count\"]"
   ]
  },
  {
   "cell_type": "code",
   "execution_count": 13,
   "metadata": {},
   "outputs": [
    {
     "data": {
      "text/plain": [
       "20"
      ]
     },
     "execution_count": 13,
     "metadata": {},
     "output_type": "execute_result"
    }
   ],
   "source": [
    "## how many records were returned\n",
    "rdict[\"limit\"]"
   ]
  },
  {
   "cell_type": "code",
   "execution_count": 14,
   "metadata": {},
   "outputs": [
    {
     "data": {
      "text/plain": [
       "0"
      ]
     },
     "execution_count": 14,
     "metadata": {},
     "output_type": "execute_result"
    }
   ],
   "source": [
    "## starting from which record\n",
    "rdict[\"offset\"]"
   ]
  },
  {
   "cell_type": "markdown",
   "metadata": {},
   "source": [
    "### So where's the data?\n",
    "It's stored under the `results` key, and is returned as a list of dictionaries, where each dictionary is a record with lots of information. Below I show the first record from our search. "
   ]
  },
  {
   "cell_type": "code",
   "execution_count": 15,
   "metadata": {},
   "outputs": [
    {
     "data": {
      "text/plain": [
       "{'key': 1736840426,\n",
       " 'datasetKey': '4fa7b334-ce0d-4e88-aaae-2e0c138d049e',\n",
       " 'publishingOrgKey': 'e2e717bf-551a-4917-bdc9-4fa0f342c530',\n",
       " 'installationKey': '7182d304-b0a2-404b-baba-2086a325c221',\n",
       " 'publishingCountry': 'EC',\n",
       " 'protocol': 'DWC_ARCHIVE',\n",
       " 'lastCrawled': '2020-06-30T08:20:54.124+00:00',\n",
       " 'lastParsed': '2020-12-16T12:05:42.432+00:00',\n",
       " 'crawlId': 13,\n",
       " 'hostingOrganizationKey': 'e2e717bf-551a-4917-bdc9-4fa0f342c530',\n",
       " 'extensions': {},\n",
       " 'basisOfRecord': 'HUMAN_OBSERVATION',\n",
       " 'individualCount': 1,\n",
       " 'occurrenceStatus': 'PRESENT',\n",
       " 'taxonKey': 5228583,\n",
       " 'kingdomKey': 1,\n",
       " 'phylumKey': 44,\n",
       " 'classKey': 212,\n",
       " 'orderKey': 1448,\n",
       " 'familyKey': 5289,\n",
       " 'genusKey': 2476913,\n",
       " 'speciesKey': 5228583,\n",
       " 'acceptedTaxonKey': 5228583,\n",
       " 'scientificName': 'Chaetocercus bombus Gould, 1871',\n",
       " 'acceptedScientificName': 'Chaetocercus bombus Gould, 1871',\n",
       " 'kingdom': 'Animalia',\n",
       " 'phylum': 'Chordata',\n",
       " 'order': 'Apodiformes',\n",
       " 'family': 'Trochilidae',\n",
       " 'genus': 'Chaetocercus',\n",
       " 'species': 'Chaetocercus bombus',\n",
       " 'genericName': 'Chaetocercus',\n",
       " 'specificEpithet': 'bombus',\n",
       " 'taxonRank': 'SPECIES',\n",
       " 'taxonomicStatus': 'ACCEPTED',\n",
       " 'decimalLongitude': -80.1245,\n",
       " 'decimalLatitude': -0.11602,\n",
       " 'stateProvince': 'Manabí',\n",
       " 'year': 2016,\n",
       " 'month': 5,\n",
       " 'day': 1,\n",
       " 'eventDate': '2016-05-01T00:00:00',\n",
       " 'issues': ['COLLECTION_MATCH_NONE', 'INSTITUTION_MATCH_FUZZY'],\n",
       " 'lastInterpreted': '2020-12-16T12:05:42.432+00:00',\n",
       " 'license': 'http://creativecommons.org/publicdomain/zero/1.0/legalcode',\n",
       " 'identifiers': [],\n",
       " 'media': [],\n",
       " 'facts': [],\n",
       " 'relations': [],\n",
       " 'gadm': {'level0': {'gid': 'ECU', 'name': 'Ecuador'},\n",
       "  'level1': {'gid': 'ECU.14_1', 'name': 'Manabi'},\n",
       "  'level2': {'gid': 'ECU.14.6_1', 'name': 'Jama'},\n",
       "  'level3': {'gid': 'ECU.14.6.1_1', 'name': 'Jama'}},\n",
       " 'institutionKey': '8d313059-3f5e-411e-b176-6553050ff8c6',\n",
       " 'isInCluster': False,\n",
       " 'geodeticDatum': 'WGS84',\n",
       " 'class': 'Aves',\n",
       " 'countryCode': 'EC',\n",
       " 'recordedByIDs': [],\n",
       " 'identifiedByIDs': [],\n",
       " 'country': 'Ecuador',\n",
       " 'identifier': 'OBS402124809',\n",
       " 'recordedBy': 'obsr503692',\n",
       " 'catalogNumber': 'OBS402124809',\n",
       " 'vernacularName': 'Little Woodstar',\n",
       " 'institutionCode': 'CLO',\n",
       " 'locality': 'Jama-Coaque Reserve',\n",
       " 'gbifID': '1736840426',\n",
       " 'collectionCode': 'EBIRD',\n",
       " 'occurrenceID': 'URN:catalog:CLO:EBIRD:OBS402124809'}"
      ]
     },
     "execution_count": 15,
     "metadata": {},
     "output_type": "execute_result"
    }
   ],
   "source": [
    "# here is the first record, it's also a dictionary\n",
    "rdict[\"results\"][0]"
   ]
  },
  {
   "cell_type": "markdown",
   "metadata": {},
   "source": [
    "There are too many columns for you see them all here. We will call .columns to see all the column names printed as a list."
   ]
  },
  {
   "cell_type": "code",
   "execution_count": 16,
   "metadata": {},
   "outputs": [
    {
     "data": {
      "text/html": [
       "<div>\n",
       "<style scoped>\n",
       "    .dataframe tbody tr th:only-of-type {\n",
       "        vertical-align: middle;\n",
       "    }\n",
       "\n",
       "    .dataframe tbody tr th {\n",
       "        vertical-align: top;\n",
       "    }\n",
       "\n",
       "    .dataframe thead th {\n",
       "        text-align: right;\n",
       "    }\n",
       "</style>\n",
       "<table border=\"1\" class=\"dataframe\">\n",
       "  <thead>\n",
       "    <tr style=\"text-align: right;\">\n",
       "      <th></th>\n",
       "      <th>key</th>\n",
       "      <th>datasetKey</th>\n",
       "      <th>publishingOrgKey</th>\n",
       "      <th>installationKey</th>\n",
       "      <th>publishingCountry</th>\n",
       "      <th>protocol</th>\n",
       "      <th>lastCrawled</th>\n",
       "      <th>lastParsed</th>\n",
       "      <th>crawlId</th>\n",
       "      <th>hostingOrganizationKey</th>\n",
       "      <th>...</th>\n",
       "      <th>collectionCode</th>\n",
       "      <th>occurrenceID</th>\n",
       "      <th>gadm.level0.gid</th>\n",
       "      <th>gadm.level0.name</th>\n",
       "      <th>gadm.level1.gid</th>\n",
       "      <th>gadm.level1.name</th>\n",
       "      <th>gadm.level2.gid</th>\n",
       "      <th>gadm.level2.name</th>\n",
       "      <th>gadm.level3.gid</th>\n",
       "      <th>gadm.level3.name</th>\n",
       "    </tr>\n",
       "  </thead>\n",
       "  <tbody>\n",
       "    <tr>\n",
       "      <th>0</th>\n",
       "      <td>1736840426</td>\n",
       "      <td>4fa7b334-ce0d-4e88-aaae-2e0c138d049e</td>\n",
       "      <td>e2e717bf-551a-4917-bdc9-4fa0f342c530</td>\n",
       "      <td>7182d304-b0a2-404b-baba-2086a325c221</td>\n",
       "      <td>EC</td>\n",
       "      <td>DWC_ARCHIVE</td>\n",
       "      <td>2020-06-30T08:20:54.124+00:00</td>\n",
       "      <td>2020-12-16T12:05:42.432+00:00</td>\n",
       "      <td>13</td>\n",
       "      <td>e2e717bf-551a-4917-bdc9-4fa0f342c530</td>\n",
       "      <td>...</td>\n",
       "      <td>EBIRD</td>\n",
       "      <td>URN:catalog:CLO:EBIRD:OBS402124809</td>\n",
       "      <td>ECU</td>\n",
       "      <td>Ecuador</td>\n",
       "      <td>ECU.14_1</td>\n",
       "      <td>Manabi</td>\n",
       "      <td>ECU.14.6_1</td>\n",
       "      <td>Jama</td>\n",
       "      <td>ECU.14.6.1_1</td>\n",
       "      <td>Jama</td>\n",
       "    </tr>\n",
       "    <tr>\n",
       "      <th>1</th>\n",
       "      <td>1792076088</td>\n",
       "      <td>4fa7b334-ce0d-4e88-aaae-2e0c138d049e</td>\n",
       "      <td>e2e717bf-551a-4917-bdc9-4fa0f342c530</td>\n",
       "      <td>7182d304-b0a2-404b-baba-2086a325c221</td>\n",
       "      <td>EC</td>\n",
       "      <td>DWC_ARCHIVE</td>\n",
       "      <td>2020-06-30T08:20:54.124+00:00</td>\n",
       "      <td>2020-12-16T11:56:34.230+00:00</td>\n",
       "      <td>13</td>\n",
       "      <td>e2e717bf-551a-4917-bdc9-4fa0f342c530</td>\n",
       "      <td>...</td>\n",
       "      <td>EBIRD</td>\n",
       "      <td>URN:catalog:CLO:EBIRD:OBS530014911</td>\n",
       "      <td>ECU</td>\n",
       "      <td>Ecuador</td>\n",
       "      <td>ECU.24_1</td>\n",
       "      <td>Zamora Chinchipe</td>\n",
       "      <td>ECU.24.9_1</td>\n",
       "      <td>Zamora</td>\n",
       "      <td>ECU.24.9.7_1</td>\n",
       "      <td>Zamora</td>\n",
       "    </tr>\n",
       "    <tr>\n",
       "      <th>2</th>\n",
       "      <td>2166158994</td>\n",
       "      <td>4fa7b334-ce0d-4e88-aaae-2e0c138d049e</td>\n",
       "      <td>e2e717bf-551a-4917-bdc9-4fa0f342c530</td>\n",
       "      <td>7182d304-b0a2-404b-baba-2086a325c221</td>\n",
       "      <td>EC</td>\n",
       "      <td>DWC_ARCHIVE</td>\n",
       "      <td>2020-06-30T08:20:54.124+00:00</td>\n",
       "      <td>2020-12-16T11:57:36.251+00:00</td>\n",
       "      <td>13</td>\n",
       "      <td>e2e717bf-551a-4917-bdc9-4fa0f342c530</td>\n",
       "      <td>...</td>\n",
       "      <td>EBIRD</td>\n",
       "      <td>URN:catalog:CLO:EBIRD:OBS634085750</td>\n",
       "      <td>ECU</td>\n",
       "      <td>Ecuador</td>\n",
       "      <td>ECU.10_1</td>\n",
       "      <td>Guayas</td>\n",
       "      <td>ECU.10.11_1</td>\n",
       "      <td>Guayaquil</td>\n",
       "      <td>ECU.10.11.1_1</td>\n",
       "      <td>Guayaquil</td>\n",
       "    </tr>\n",
       "    <tr>\n",
       "      <th>3</th>\n",
       "      <td>2049507065</td>\n",
       "      <td>4fa7b334-ce0d-4e88-aaae-2e0c138d049e</td>\n",
       "      <td>e2e717bf-551a-4917-bdc9-4fa0f342c530</td>\n",
       "      <td>7182d304-b0a2-404b-baba-2086a325c221</td>\n",
       "      <td>PE</td>\n",
       "      <td>DWC_ARCHIVE</td>\n",
       "      <td>2020-06-30T08:20:54.124+00:00</td>\n",
       "      <td>2020-12-16T11:55:41.933+00:00</td>\n",
       "      <td>13</td>\n",
       "      <td>e2e717bf-551a-4917-bdc9-4fa0f342c530</td>\n",
       "      <td>...</td>\n",
       "      <td>EBIRD</td>\n",
       "      <td>URN:catalog:CLO:EBIRD:OBS472174822</td>\n",
       "      <td>PER</td>\n",
       "      <td>Peru</td>\n",
       "      <td>PER.14_1</td>\n",
       "      <td>Lambayeque</td>\n",
       "      <td>PER.14.1_1</td>\n",
       "      <td>Chiclayo</td>\n",
       "      <td>PER.14.1.2_1</td>\n",
       "      <td>Chongoyape</td>\n",
       "    </tr>\n",
       "    <tr>\n",
       "      <th>4</th>\n",
       "      <td>2717495696</td>\n",
       "      <td>4fa7b334-ce0d-4e88-aaae-2e0c138d049e</td>\n",
       "      <td>e2e717bf-551a-4917-bdc9-4fa0f342c530</td>\n",
       "      <td>7182d304-b0a2-404b-baba-2086a325c221</td>\n",
       "      <td>PE</td>\n",
       "      <td>DWC_ARCHIVE</td>\n",
       "      <td>2020-06-30T08:20:54.124+00:00</td>\n",
       "      <td>2020-12-16T11:59:35.037+00:00</td>\n",
       "      <td>13</td>\n",
       "      <td>e2e717bf-551a-4917-bdc9-4fa0f342c530</td>\n",
       "      <td>...</td>\n",
       "      <td>EBIRD</td>\n",
       "      <td>URN:catalog:CLO:EBIRD:OBS822898729</td>\n",
       "      <td>PER</td>\n",
       "      <td>Peru</td>\n",
       "      <td>PER.1_1</td>\n",
       "      <td>Amazonas</td>\n",
       "      <td>PER.1.2_1</td>\n",
       "      <td>Bongará</td>\n",
       "      <td>PER.1.2.5_1</td>\n",
       "      <td>Florida</td>\n",
       "    </tr>\n",
       "  </tbody>\n",
       "</table>\n",
       "<p>5 rows × 73 columns</p>\n",
       "</div>"
      ],
      "text/plain": [
       "          key                            datasetKey  \\\n",
       "0  1736840426  4fa7b334-ce0d-4e88-aaae-2e0c138d049e   \n",
       "1  1792076088  4fa7b334-ce0d-4e88-aaae-2e0c138d049e   \n",
       "2  2166158994  4fa7b334-ce0d-4e88-aaae-2e0c138d049e   \n",
       "3  2049507065  4fa7b334-ce0d-4e88-aaae-2e0c138d049e   \n",
       "4  2717495696  4fa7b334-ce0d-4e88-aaae-2e0c138d049e   \n",
       "\n",
       "                       publishingOrgKey                       installationKey  \\\n",
       "0  e2e717bf-551a-4917-bdc9-4fa0f342c530  7182d304-b0a2-404b-baba-2086a325c221   \n",
       "1  e2e717bf-551a-4917-bdc9-4fa0f342c530  7182d304-b0a2-404b-baba-2086a325c221   \n",
       "2  e2e717bf-551a-4917-bdc9-4fa0f342c530  7182d304-b0a2-404b-baba-2086a325c221   \n",
       "3  e2e717bf-551a-4917-bdc9-4fa0f342c530  7182d304-b0a2-404b-baba-2086a325c221   \n",
       "4  e2e717bf-551a-4917-bdc9-4fa0f342c530  7182d304-b0a2-404b-baba-2086a325c221   \n",
       "\n",
       "  publishingCountry     protocol                    lastCrawled  \\\n",
       "0                EC  DWC_ARCHIVE  2020-06-30T08:20:54.124+00:00   \n",
       "1                EC  DWC_ARCHIVE  2020-06-30T08:20:54.124+00:00   \n",
       "2                EC  DWC_ARCHIVE  2020-06-30T08:20:54.124+00:00   \n",
       "3                PE  DWC_ARCHIVE  2020-06-30T08:20:54.124+00:00   \n",
       "4                PE  DWC_ARCHIVE  2020-06-30T08:20:54.124+00:00   \n",
       "\n",
       "                      lastParsed  crawlId  \\\n",
       "0  2020-12-16T12:05:42.432+00:00       13   \n",
       "1  2020-12-16T11:56:34.230+00:00       13   \n",
       "2  2020-12-16T11:57:36.251+00:00       13   \n",
       "3  2020-12-16T11:55:41.933+00:00       13   \n",
       "4  2020-12-16T11:59:35.037+00:00       13   \n",
       "\n",
       "                 hostingOrganizationKey  ... collectionCode  \\\n",
       "0  e2e717bf-551a-4917-bdc9-4fa0f342c530  ...          EBIRD   \n",
       "1  e2e717bf-551a-4917-bdc9-4fa0f342c530  ...          EBIRD   \n",
       "2  e2e717bf-551a-4917-bdc9-4fa0f342c530  ...          EBIRD   \n",
       "3  e2e717bf-551a-4917-bdc9-4fa0f342c530  ...          EBIRD   \n",
       "4  e2e717bf-551a-4917-bdc9-4fa0f342c530  ...          EBIRD   \n",
       "\n",
       "                         occurrenceID gadm.level0.gid  gadm.level0.name  \\\n",
       "0  URN:catalog:CLO:EBIRD:OBS402124809             ECU           Ecuador   \n",
       "1  URN:catalog:CLO:EBIRD:OBS530014911             ECU           Ecuador   \n",
       "2  URN:catalog:CLO:EBIRD:OBS634085750             ECU           Ecuador   \n",
       "3  URN:catalog:CLO:EBIRD:OBS472174822             PER              Peru   \n",
       "4  URN:catalog:CLO:EBIRD:OBS822898729             PER              Peru   \n",
       "\n",
       "   gadm.level1.gid  gadm.level1.name  gadm.level2.gid  gadm.level2.name  \\\n",
       "0         ECU.14_1            Manabi       ECU.14.6_1              Jama   \n",
       "1         ECU.24_1  Zamora Chinchipe       ECU.24.9_1            Zamora   \n",
       "2         ECU.10_1            Guayas      ECU.10.11_1         Guayaquil   \n",
       "3         PER.14_1        Lambayeque       PER.14.1_1          Chiclayo   \n",
       "4          PER.1_1          Amazonas        PER.1.2_1           Bongará   \n",
       "\n",
       "   gadm.level3.gid  gadm.level3.name  \n",
       "0     ECU.14.6.1_1              Jama  \n",
       "1     ECU.24.9.7_1            Zamora  \n",
       "2    ECU.10.11.1_1         Guayaquil  \n",
       "3     PER.14.1.2_1        Chongoyape  \n",
       "4      PER.1.2.5_1           Florida  \n",
       "\n",
       "[5 rows x 73 columns]"
      ]
     },
     "execution_count": 16,
     "metadata": {},
     "output_type": "execute_result"
    }
   ],
   "source": [
    "# load as a dataframe\n",
    "sdf = pd.json_normalize(rdict['results'])\n",
    "sdf.head()"
   ]
  },
  {
   "cell_type": "code",
   "execution_count": 17,
   "metadata": {},
   "outputs": [
    {
     "data": {
      "text/plain": [
       "Index(['key', 'datasetKey', 'publishingOrgKey', 'installationKey',\n",
       "       'publishingCountry', 'protocol', 'lastCrawled', 'lastParsed', 'crawlId',\n",
       "       'hostingOrganizationKey', 'basisOfRecord', 'individualCount',\n",
       "       'occurrenceStatus', 'taxonKey', 'kingdomKey', 'phylumKey', 'classKey',\n",
       "       'orderKey', 'familyKey', 'genusKey', 'speciesKey', 'acceptedTaxonKey',\n",
       "       'scientificName', 'acceptedScientificName', 'kingdom', 'phylum',\n",
       "       'order', 'family', 'genus', 'species', 'genericName', 'specificEpithet',\n",
       "       'taxonRank', 'taxonomicStatus', 'decimalLongitude', 'decimalLatitude',\n",
       "       'stateProvince', 'year', 'month', 'day', 'eventDate', 'issues',\n",
       "       'lastInterpreted', 'license', 'identifiers', 'media', 'facts',\n",
       "       'relations', 'institutionKey', 'isInCluster', 'geodeticDatum', 'class',\n",
       "       'countryCode', 'recordedByIDs', 'identifiedByIDs', 'country',\n",
       "       'identifier', 'recordedBy', 'catalogNumber', 'vernacularName',\n",
       "       'institutionCode', 'locality', 'gbifID', 'collectionCode',\n",
       "       'occurrenceID', 'gadm.level0.gid', 'gadm.level0.name',\n",
       "       'gadm.level1.gid', 'gadm.level1.name', 'gadm.level2.gid',\n",
       "       'gadm.level2.name', 'gadm.level3.gid', 'gadm.level3.name'],\n",
       "      dtype='object')"
      ]
     },
     "execution_count": 17,
     "metadata": {},
     "output_type": "execute_result"
    }
   ],
   "source": [
    "sdf.columns"
   ]
  },
  {
   "cell_type": "markdown",
   "metadata": {},
   "source": [
    "### Building a request\n",
    "Here we add more arguments to further filter the results. To see which options are available, you can either look at the results from our existing calls so far, or you can read further into the API docs. Sometimes API docs will be incomplete though, so it can be useful to learn to try to infer which options are possible from looking at the results. A more complex search is accomplished by building a URL that has more key:value pairs each appended to the end of the URL, and separated by a \"&\" symbol. For large searches it begins to get difficult to write out by hand, and that is where `requests` comes in handy. Here we enter the additional arguments we want using a simple python dictionary into the entry 'params'."
   ]
  },
  {
   "cell_type": "code",
   "execution_count": 18,
   "metadata": {},
   "outputs": [],
   "source": [
    "# previously we wrote this request by hand\n",
    "urlpath = \"http://api.gbif.org/v1/occurrence/search?q=Bombus\""
   ]
  },
  {
   "cell_type": "code",
   "execution_count": 19,
   "metadata": {},
   "outputs": [
    {
     "name": "stdout",
     "output_type": "stream",
     "text": [
      "https://api.gbif.org/v1/occurrence/search/?q=Bombus\n"
     ]
    }
   ],
   "source": [
    "# here we create the same urlpath using params\n",
    "response = requests.get(\n",
    "    url=\"https://api.gbif.org/v1/occurrence/search/\",\n",
    "    params={\"q\": \"Bombus\"}\n",
    ")\n",
    "\n",
    "# show url path\n",
    "print(response.url)"
   ]
  },
  {
   "cell_type": "markdown",
   "metadata": {},
   "source": [
    "### Narrowing request/responses\n",
    "If you looked closely at the results above you may have noticed that the records returned are *not* actually all for organisms in the genus Bombus. Instead results include things like *Chaetocercus bombus* and other organisms that happen to have \"bombus\" in their names.\n",
    "\n",
    "This is why its important to look closely at your data. Looking back at the documentation we can see that the 'q=something' search parameter returns a fuzzy hit to anything that has the query in its data. If we instead want to restrict to the genus Bombus we need to find the `genusKey` for Bombus. This can be found using the 'species' endpoint in the API. So let's take a side track to find this. Note we are searching a *different* baseurl now, to look in the 'species' path instead of the 'occurrence' path. \n",
    "\n",
    "The results below provide unique identifiers that are more reliable for searching the database. We will use the genusKey=1340278 for our next search of the occurrence database."
   ]
  },
  {
   "cell_type": "code",
   "execution_count": 20,
   "metadata": {},
   "outputs": [
    {
     "data": {
      "text/plain": [
       "{'usageKey': 1340278,\n",
       " 'scientificName': 'Bombus Latreille, 1802',\n",
       " 'canonicalName': 'Bombus',\n",
       " 'rank': 'GENUS',\n",
       " 'status': 'ACCEPTED',\n",
       " 'confidence': 97,\n",
       " 'matchType': 'HIGHERRANK',\n",
       " 'kingdom': 'Animalia',\n",
       " 'phylum': 'Arthropoda',\n",
       " 'order': 'Hymenoptera',\n",
       " 'family': 'Apidae',\n",
       " 'genus': 'Bombus',\n",
       " 'kingdomKey': 1,\n",
       " 'phylumKey': 54,\n",
       " 'classKey': 216,\n",
       " 'orderKey': 1457,\n",
       " 'familyKey': 4334,\n",
       " 'genusKey': 1340278,\n",
       " 'synonym': False,\n",
       " 'class': 'Insecta'}"
      ]
     },
     "execution_count": 20,
     "metadata": {},
     "output_type": "execute_result"
    }
   ],
   "source": [
    "# get taxonomy info for the genus Bombus\n",
    "res = requests.get(\n",
    "    url=\"https://api.gbif.org/v1/species/match/\",\n",
    "    params={\"genus\": \"Bombus\"},\n",
    ")\n",
    "res.json()"
   ]
  },
  {
   "cell_type": "markdown",
   "metadata": {},
   "source": [
    "Here is a different search for the genus *Pedicularis*. This is a group of plants that I study. You can see that it returns a different set of taxonomic keys. Feel free to try searching a taxon of your choice."
   ]
  },
  {
   "cell_type": "code",
   "execution_count": 21,
   "metadata": {},
   "outputs": [
    {
     "data": {
      "text/plain": [
       "{'usageKey': 3171670,\n",
       " 'scientificName': 'Pedicularis L.',\n",
       " 'canonicalName': 'Pedicularis',\n",
       " 'rank': 'GENUS',\n",
       " 'status': 'ACCEPTED',\n",
       " 'confidence': 97,\n",
       " 'matchType': 'HIGHERRANK',\n",
       " 'kingdom': 'Plantae',\n",
       " 'phylum': 'Tracheophyta',\n",
       " 'order': 'Lamiales',\n",
       " 'family': 'Orobanchaceae',\n",
       " 'genus': 'Pedicularis',\n",
       " 'kingdomKey': 6,\n",
       " 'phylumKey': 7707728,\n",
       " 'classKey': 220,\n",
       " 'orderKey': 408,\n",
       " 'familyKey': 6651,\n",
       " 'genusKey': 3171670,\n",
       " 'synonym': False,\n",
       " 'class': 'Magnoliopsida'}"
      ]
     },
     "execution_count": 21,
     "metadata": {},
     "output_type": "execute_result"
    }
   ],
   "source": [
    "# get taxonomy info for the genus Pedicularis\n",
    "res = requests.get(\n",
    "    url=\"https://api.gbif.org/v1/species/match/\",\n",
    "    params={\"genus\": \"Pedicularis\"},\n",
    ")\n",
    "res.json()"
   ]
  },
  {
   "cell_type": "markdown",
   "metadata": {},
   "source": [
    "### Building more complex queries\n",
    "\n",
    "Below I show the URL for when we add the requirement that a record have coordinate data, and for when we add additional arguments to raise the limit for the number of records returned. The max records at a time (limit - offset) is 300. Above that you need to increment the offset to search higher values. You can see that the URL is simply appending additional queries to the end after the ? symbol to build more complex queries."
   ]
  },
  {
   "cell_type": "code",
   "execution_count": 22,
   "metadata": {},
   "outputs": [
    {
     "data": {
      "text/plain": [
       "'https://api.gbif.org/v1/occurrence/search/?genusKey=1340278&hasCoordinate=true'"
      ]
     },
     "execution_count": 22,
     "metadata": {},
     "output_type": "execute_result"
    }
   ],
   "source": [
    "# add requirement that the record have coordinate data\n",
    "res = requests.get(\n",
    "    url=\"https://api.gbif.org/v1/occurrence/search/\",\n",
    "    params={\n",
    "        \"genusKey\": 1340278, \n",
    "        \"hasCoordinate\": \"true\",\n",
    "    }\n",
    ")\n",
    "res.url"
   ]
  },
  {
   "cell_type": "code",
   "execution_count": 23,
   "metadata": {},
   "outputs": [
    {
     "data": {
      "text/plain": [
       "'https://api.gbif.org/v1/occurrence/search/?genusKey=1340278&hasCoordinate=true&offset=100&limit=20'"
      ]
     },
     "execution_count": 23,
     "metadata": {},
     "output_type": "execute_result"
    }
   ],
   "source": [
    "# request records 0-100\n",
    "res = requests.get(\n",
    "    url=\"https://api.gbif.org/v1/occurrence/search/\",\n",
    "    params={\n",
    "        \"genusKey\": 1340278, \n",
    "        \"hasCoordinate\": \"true\",\n",
    "        \"offset\": 100,\n",
    "        \"limit\": 20,\n",
    "    }\n",
    ")\n",
    "res.url"
   ]
  },
  {
   "cell_type": "markdown",
   "metadata": {},
   "source": [
    "### A complex search\n",
    "Here I request all Bombus records from 1900-1910 that are associated with a preserved specimen (as opposed to HUMAN_OBSERVATION or FOSSIL_SPECIMEN), has spatial data, and is in the US. The 'count' shows us that there are >6000 records meeting these requirements. This individual search returned only 20 of these results though, and at most can do 300 at a time. So we will need to use a trick to get all the records."
   ]
  },
  {
   "cell_type": "code",
   "execution_count": 24,
   "metadata": {},
   "outputs": [
    {
     "name": "stdout",
     "output_type": "stream",
     "text": [
      "6699\n"
     ]
    }
   ],
   "source": [
    "res = requests.get(\n",
    "    url=\"https://api.gbif.org/v1/occurrence/search/\",\n",
    "    params={\n",
    "        \"genusKey\": 1340278, \n",
    "        \"year\": \"1900,1910\", \n",
    "        \"basisOfRecord\": \"PRESERVED_SPECIMEN\",\n",
    "        \"hasCoordinate\": \"true\",\n",
    "        \"hasGeospatialIssue\": \"false\",\n",
    "        \"country\": \"US\",\n",
    "    },\n",
    ")\n",
    "\n",
    "print(res.json()[\"count\"])"
   ]
  },
  {
   "cell_type": "markdown",
   "metadata": {},
   "source": [
    "### Combining many searches\n",
    "If we wanted to collect all records for a given search then we need to increment the \"offset\" argument until we reach the end of the records. Each is returned as a list of dictionaries, so we can just join all of those lists together and return them. That sounds a bit complex, so let's to it in two parts, first we'll write a function to fulfill a single request, and then a function to call many requests."
   ]
  },
  {
   "cell_type": "code",
   "execution_count": 25,
   "metadata": {},
   "outputs": [],
   "source": [
    "def get_single_batch(genusKey, year, offset=0, limit=20):\n",
    "    \"\"\"\n",
    "    Returns a GBIF REST query with records between offset\n",
    "    and offset + limit in JSON format. The genusKey and \n",
    "    year interval can be changed.\n",
    "    \"\"\"\n",
    "    res = requests.get(\n",
    "        url=\"https://api.gbif.org/v1/occurrence/search/\",\n",
    "        params={\n",
    "            \"genusKey\": genusKey,\n",
    "            \"year\": year,\n",
    "            \"offset\": offset,\n",
    "            \"limit\": limit,\n",
    "            \"hasCoordinate\": \"true\",\n",
    "            \"country\": \"US\",\n",
    "        }\n",
    "    )\n",
    "    return res.json()"
   ]
  },
  {
   "cell_type": "code",
   "execution_count": 26,
   "metadata": {},
   "outputs": [
    {
     "name": "stdout",
     "output_type": "stream",
     "text": [
      "20\n"
     ]
    }
   ],
   "source": [
    "# test single batch function\n",
    "jdata = get_single_batch(\n",
    "    genusKey=3171670,\n",
    "    year=\"1990,2020\",\n",
    "    offset=0, \n",
    "    limit=20\n",
    ")\n",
    "\n",
    "# how many results were fetched?\n",
    "print(len(jdata[\"results\"]))"
   ]
  },
  {
   "cell_type": "code",
   "execution_count": 27,
   "metadata": {
    "scrolled": true
   },
   "outputs": [
    {
     "data": {
      "text/plain": [
       "False"
      ]
     },
     "execution_count": 27,
     "metadata": {},
     "output_type": "execute_result"
    }
   ],
   "source": [
    "# did we reach the end of the records?\n",
    "jdata[\"endOfRecords\"]"
   ]
  },
  {
   "cell_type": "code",
   "execution_count": 28,
   "metadata": {},
   "outputs": [],
   "source": [
    "def get_all_records(genusKey, year):\n",
    "    \"\"\"\n",
    "    Iterate requests over incremental offset positions until\n",
    "    all records have been fetched. When the last record has\n",
    "    been fetched the key 'endOfRecords' will be 'true'. Takes\n",
    "    the API params as a dictionary. Returns result as a list\n",
    "    of dictionaries.\n",
    "    \"\"\"\n",
    "    # for storing results\n",
    "    alldata = []\n",
    "    \n",
    "    # continue until we call 'break'\n",
    "    offset = 0\n",
    "    while 1:\n",
    "        \n",
    "        # get JSON data for a batch \n",
    "        jdata = get_single_batch(genusKey, year, offset, 300)\n",
    "        \n",
    "        # increment counter by 300 (the max limit)\n",
    "        offset += 300\n",
    "        \n",
    "        # add this batch of data to the growing list\n",
    "        alldata.extend(jdata[\"results\"])\n",
    "        \n",
    "        # stop when end of record is reached\n",
    "        if jdata[\"endOfRecords\"]:\n",
    "            print(f'Done. Found {len(alldata)} records')\n",
    "            break\n",
    "            \n",
    "        # print a dot on each rep to show progress\n",
    "        print('.', end='')\n",
    "        \n",
    "    return alldata"
   ]
  },
  {
   "cell_type": "code",
   "execution_count": 29,
   "metadata": {},
   "outputs": [
    {
     "name": "stdout",
     "output_type": "stream",
     "text": [
      "...Done. Found 1051 records\n"
     ]
    }
   ],
   "source": [
    "# call function to search over all offset values until end. \n",
    "# THIS MAY TAKE A FEW MINUTES TO RUN\n",
    "jdata = get_all_records(1340278, \"1900,1902\")"
   ]
  },
  {
   "cell_type": "markdown",
   "metadata": {},
   "source": [
    "### The full data"
   ]
  },
  {
   "cell_type": "code",
   "execution_count": 30,
   "metadata": {},
   "outputs": [],
   "source": [
    "# convert to a data frame\n",
    "df = pd.json_normalize(jdata)"
   ]
  },
  {
   "cell_type": "code",
   "execution_count": 31,
   "metadata": {
    "scrolled": true
   },
   "outputs": [
    {
     "data": {
      "text/plain": [
       "['key',\n",
       " 'datasetKey',\n",
       " 'publishingOrgKey',\n",
       " 'installationKey',\n",
       " 'publishingCountry',\n",
       " 'protocol',\n",
       " 'lastCrawled',\n",
       " 'lastParsed',\n",
       " 'crawlId',\n",
       " 'hostingOrganizationKey',\n",
       " 'basisOfRecord',\n",
       " 'occurrenceStatus',\n",
       " 'taxonKey',\n",
       " 'kingdomKey',\n",
       " 'phylumKey',\n",
       " 'classKey',\n",
       " 'orderKey',\n",
       " 'familyKey',\n",
       " 'genusKey',\n",
       " 'speciesKey',\n",
       " 'acceptedTaxonKey',\n",
       " 'scientificName',\n",
       " 'acceptedScientificName',\n",
       " 'kingdom',\n",
       " 'phylum',\n",
       " 'order',\n",
       " 'family',\n",
       " 'genus',\n",
       " 'species',\n",
       " 'genericName',\n",
       " 'specificEpithet',\n",
       " 'taxonRank',\n",
       " 'taxonomicStatus',\n",
       " 'decimalLongitude',\n",
       " 'decimalLatitude',\n",
       " 'stateProvince',\n",
       " 'year',\n",
       " 'month',\n",
       " 'day',\n",
       " 'eventDate',\n",
       " 'issues',\n",
       " 'lastInterpreted',\n",
       " 'license',\n",
       " 'identifiers',\n",
       " 'media',\n",
       " 'facts',\n",
       " 'relations',\n",
       " 'institutionKey',\n",
       " 'collectionKey',\n",
       " 'isInCluster',\n",
       " 'geodeticDatum',\n",
       " 'class',\n",
       " 'countryCode',\n",
       " 'recordedByIDs',\n",
       " 'identifiedByIDs',\n",
       " 'country',\n",
       " 'catalogNumber',\n",
       " 'institutionCode',\n",
       " 'locality',\n",
       " 'county',\n",
       " 'gbifID',\n",
       " 'collectionCode',\n",
       " 'gadm.level0.gid',\n",
       " 'gadm.level0.name',\n",
       " 'gadm.level1.gid',\n",
       " 'gadm.level1.name',\n",
       " 'gadm.level2.gid',\n",
       " 'gadm.level2.name',\n",
       " 'networkKeys',\n",
       " 'individualCount',\n",
       " 'lifeStage',\n",
       " 'identifier',\n",
       " 'institutionID',\n",
       " 'higherGeography',\n",
       " 'verbatimEventDate',\n",
       " 'georeferenceProtocol',\n",
       " 'endDayOfYear',\n",
       " 'datasetName',\n",
       " 'occurrenceID',\n",
       " 'type',\n",
       " 'preparations',\n",
       " 'recordedBy',\n",
       " 'startDayOfYear',\n",
       " 'occurrenceRemarks',\n",
       " 'higherClassification',\n",
       " 'extensions.http://rs.tdwg.org/ac/terms/Multimedia',\n",
       " 'identifiedBy',\n",
       " 'continent',\n",
       " 'rightsHolder',\n",
       " 'language',\n",
       " 'organismID',\n",
       " 'ownerInstitutionCode',\n",
       " 'datasetID',\n",
       " 'accessRights',\n",
       " 'collectionID',\n",
       " 'coordinateUncertaintyInMeters',\n",
       " 'references',\n",
       " 'rights',\n",
       " 'sex',\n",
       " 'infraspecificEpithet',\n",
       " 'dateIdentified',\n",
       " 'modified',\n",
       " 'scientificNameID',\n",
       " 'source',\n",
       " 'fieldNotes',\n",
       " 'samplingProtocol',\n",
       " 'georeferenceSources',\n",
       " 'georeferenceRemarks',\n",
       " 'elevation',\n",
       " 'eventRemarks',\n",
       " 'elevationAccuracy',\n",
       " 'georeferencedBy',\n",
       " 'http://unknown.org/recordId',\n",
       " 'georeferenceVerificationStatus',\n",
       " 'taxonID',\n",
       " 'identificationQualifier',\n",
       " 'locationRemarks',\n",
       " 'otherCatalogNumbers',\n",
       " 'dynamicProperties',\n",
       " 'identificationVerificationStatus',\n",
       " 'locationAccordingTo',\n",
       " 'eventTime',\n",
       " 'identificationRemarks',\n",
       " 'georeferencedDate',\n",
       " 'recordNumber',\n",
       " 'nomenclaturalCode',\n",
       " 'verbatimCoordinateSystem',\n",
       " 'verbatimLocality',\n",
       " 'previousIdentifications']"
      ]
     },
     "execution_count": 31,
     "metadata": {},
     "output_type": "execute_result"
    }
   ],
   "source": [
    "# keys (columns) in the dataframe (there are many!)\n",
    "list(df.columns)"
   ]
  },
  {
   "cell_type": "code",
   "execution_count": 32,
   "metadata": {},
   "outputs": [
    {
     "data": {
      "text/html": [
       "<div>\n",
       "<style scoped>\n",
       "    .dataframe tbody tr th:only-of-type {\n",
       "        vertical-align: middle;\n",
       "    }\n",
       "\n",
       "    .dataframe tbody tr th {\n",
       "        vertical-align: top;\n",
       "    }\n",
       "\n",
       "    .dataframe thead th {\n",
       "        text-align: right;\n",
       "    }\n",
       "</style>\n",
       "<table border=\"1\" class=\"dataframe\">\n",
       "  <thead>\n",
       "    <tr style=\"text-align: right;\">\n",
       "      <th></th>\n",
       "      <th>species</th>\n",
       "      <th>year</th>\n",
       "      <th>decimalLatitude</th>\n",
       "      <th>decimalLongitude</th>\n",
       "    </tr>\n",
       "  </thead>\n",
       "  <tbody>\n",
       "    <tr>\n",
       "      <th>0</th>\n",
       "      <td>Bombus variabilis</td>\n",
       "      <td>1902</td>\n",
       "      <td>37.617500</td>\n",
       "      <td>-89.208890</td>\n",
       "    </tr>\n",
       "    <tr>\n",
       "      <th>1</th>\n",
       "      <td>Bombus pensylvanicus</td>\n",
       "      <td>1902</td>\n",
       "      <td>39.980000</td>\n",
       "      <td>-82.980000</td>\n",
       "    </tr>\n",
       "    <tr>\n",
       "      <th>2</th>\n",
       "      <td>Bombus vosnesenskii</td>\n",
       "      <td>1902</td>\n",
       "      <td>38.187410</td>\n",
       "      <td>-122.520800</td>\n",
       "    </tr>\n",
       "    <tr>\n",
       "      <th>3</th>\n",
       "      <td>Bombus vosnesenskii</td>\n",
       "      <td>1902</td>\n",
       "      <td>37.399600</td>\n",
       "      <td>-121.799700</td>\n",
       "    </tr>\n",
       "    <tr>\n",
       "      <th>4</th>\n",
       "      <td>Bombus rufocinctus</td>\n",
       "      <td>1902</td>\n",
       "      <td>37.397444</td>\n",
       "      <td>-121.802593</td>\n",
       "    </tr>\n",
       "  </tbody>\n",
       "</table>\n",
       "</div>"
      ],
      "text/plain": [
       "                species  year  decimalLatitude  decimalLongitude\n",
       "0     Bombus variabilis  1902        37.617500        -89.208890\n",
       "1  Bombus pensylvanicus  1902        39.980000        -82.980000\n",
       "2   Bombus vosnesenskii  1902        38.187410       -122.520800\n",
       "3   Bombus vosnesenskii  1902        37.399600       -121.799700\n",
       "4    Bombus rufocinctus  1902        37.397444       -121.802593"
      ]
     },
     "execution_count": 32,
     "metadata": {},
     "output_type": "execute_result"
    }
   ],
   "source": [
    "# view just the columns we're interested in for now.\n",
    "sdf = df[[\"species\", \"year\", \"decimalLatitude\", \"decimalLongitude\"]]\n",
    "sdf.head()"
   ]
  },
  {
   "cell_type": "code",
   "execution_count": 33,
   "metadata": {},
   "outputs": [
    {
     "data": {
      "text/plain": [
       "(1051, 4)"
      ]
     },
     "execution_count": 33,
     "metadata": {},
     "output_type": "execute_result"
    }
   ],
   "source": [
    "# how many records?\n",
    "sdf.shape"
   ]
  },
  {
   "cell_type": "code",
   "execution_count": 34,
   "metadata": {},
   "outputs": [
    {
     "name": "stdout",
     "output_type": "stream",
     "text": [
      "['Bombus variabilis' 'Bombus pensylvanicus' 'Bombus vosnesenskii'\n",
      " 'Bombus rufocinctus' 'Bombus californicus' 'Bombus melanopygus'\n",
      " 'Bombus centralis' 'Bombus appositus' 'Bombus occidentalis'\n",
      " 'Bombus terricola' 'Bombus impatiens' 'Bombus griseocollis'\n",
      " 'Bombus fervidus' 'Bombus insularis' 'Bombus huntii' 'Bombus bifarius'\n",
      " 'Bombus bimaculatus' 'Bombus vagans' 'Bombus auricomus' 'Bombus affinis'\n",
      " 'Bombus cockerelli' 'Bombus separatus' 'Bombus perplexus'\n",
      " 'Bombus citrinus' 'Bombus nevadensis' 'Bombus morrisoni' nan\n",
      " 'Bombus sonorus' 'Bombus ternarius' 'Bombus sitkensis' 'Bombus neoboreus'\n",
      " 'Bombus fraternus' 'Bombus flavifrons' 'Bombus suckleyi' 'Bombus ashtoni'\n",
      " 'Bombus fernaldae' 'Bombus sylvicola' 'Bombus patagiatus' 'Bombus mixtus'\n",
      " 'Bombus lapponicus' 'Bombus balteatus' 'Bombus borealis']\n"
     ]
    }
   ],
   "source": [
    "# which unique species?\n",
    "print(sdf.species.unique())"
   ]
  },
  {
   "cell_type": "code",
   "execution_count": 35,
   "metadata": {},
   "outputs": [
    {
     "data": {
      "text/html": [
       "<div class=\"toyplot\" id=\"ta8c1e79540af4cc09d78f7526ac407d4\" style=\"text-align:center\"><svg class=\"toyplot-canvas-Canvas\" xmlns:toyplot=\"http://www.sandia.gov/toyplot\" xmlns:xlink=\"http://www.w3.org/1999/xlink\" xmlns=\"http://www.w3.org/2000/svg\" width=\"600px\" height=\"350.0px\" viewBox=\"0 0 600 350.0\" preserveAspectRatio=\"xMidYMid meet\" style=\"background-color:transparent;border-color:#292724;border-style:none;border-width:1.0;fill:rgb(16.1%,15.3%,14.1%);fill-opacity:1.0;font-family:Helvetica;font-size:12px;opacity:1.0;stroke:rgb(16.1%,15.3%,14.1%);stroke-opacity:1.0;stroke-width:1.0\" id=\"t31206287fc2e43df912927d8defec57e\"><g class=\"toyplot-coordinates-Cartesian\" id=\"t724b959cc51c4bb4b84160f4e7e0d2a2\"><clipPath id=\"ta2cccb4e1ec8464aa20eedb0c26a0526\"><rect x=\"40.0\" y=\"40.0\" width=\"520.0\" height=\"270.0\"></rect></clipPath><g clip-path=\"url(#ta2cccb4e1ec8464aa20eedb0c26a0526)\"><g class=\"toyplot-mark-BarMagnitudes\" style=\"stroke:rgb(100%,100%,100%);stroke-opacity:1.0;stroke-width:1.0\" id=\"te884a93f2c8542e6b34779ed2600cef3\"><g class=\"toyplot-Series\"><rect class=\"toyplot-Datum\" x=\"50.0\" y=\"50.0\" width=\"12.195121951219512\" height=\"250.0\" style=\"fill:rgb(40%,76.1%,64.7%);fill-opacity:1.0;opacity:1.0;stroke:rgb(100%,100%,100%);stroke-opacity:1.0;stroke-width:1.0\"><title>Bombus impatiens</title></rect><rect class=\"toyplot-Datum\" x=\"62.19512195121951\" y=\"104.8780487804878\" width=\"12.195121951219512\" height=\"195.1219512195122\" style=\"fill:rgb(40%,76.1%,64.7%);fill-opacity:1.0;opacity:1.0;stroke:rgb(100%,100%,100%);stroke-opacity:1.0;stroke-width:1.0\"><title>Bombus pensylvanicus</title></rect><rect class=\"toyplot-Datum\" x=\"74.39024390243902\" y=\"127.23577235772359\" width=\"12.19512195121952\" height=\"172.7642276422764\" style=\"fill:rgb(40%,76.1%,64.7%);fill-opacity:1.0;opacity:1.0;stroke:rgb(100%,100%,100%);stroke-opacity:1.0;stroke-width:1.0\"><title>Bombus fervidus</title></rect><rect class=\"toyplot-Datum\" x=\"86.58536585365854\" y=\"133.33333333333334\" width=\"12.195121951219505\" height=\"166.66666666666666\" style=\"fill:rgb(40%,76.1%,64.7%);fill-opacity:1.0;opacity:1.0;stroke:rgb(100%,100%,100%);stroke-opacity:1.0;stroke-width:1.0\"><title>Bombus occidentalis</title></rect><rect class=\"toyplot-Datum\" x=\"98.78048780487805\" y=\"149.59349593495935\" width=\"12.19512195121952\" height=\"150.40650406504065\" style=\"fill:rgb(40%,76.1%,64.7%);fill-opacity:1.0;opacity:1.0;stroke:rgb(100%,100%,100%);stroke-opacity:1.0;stroke-width:1.0\"><title>Bombus griseocollis</title></rect><rect class=\"toyplot-Datum\" x=\"110.97560975609757\" y=\"151.6260162601626\" width=\"12.195121951219491\" height=\"148.3739837398374\" style=\"fill:rgb(40%,76.1%,64.7%);fill-opacity:1.0;opacity:1.0;stroke:rgb(100%,100%,100%);stroke-opacity:1.0;stroke-width:1.0\"><title>Bombus morrisoni</title></rect><rect class=\"toyplot-Datum\" x=\"123.17073170731706\" y=\"198.3739837398374\" width=\"12.195121951219534\" height=\"101.6260162601626\" style=\"fill:rgb(40%,76.1%,64.7%);fill-opacity:1.0;opacity:1.0;stroke:rgb(100%,100%,100%);stroke-opacity:1.0;stroke-width:1.0\"><title>Bombus rufocinctus</title></rect><rect class=\"toyplot-Datum\" x=\"135.3658536585366\" y=\"220.73170731707313\" width=\"12.195121951219505\" height=\"79.26829268292687\" style=\"fill:rgb(40%,76.1%,64.7%);fill-opacity:1.0;opacity:1.0;stroke:rgb(100%,100%,100%);stroke-opacity:1.0;stroke-width:1.0\"><title>Bombus vagans</title></rect><rect class=\"toyplot-Datum\" x=\"147.5609756097561\" y=\"222.7642276422764\" width=\"12.195121951219505\" height=\"77.23577235772359\" style=\"fill:rgb(40%,76.1%,64.7%);fill-opacity:1.0;opacity:1.0;stroke:rgb(100%,100%,100%);stroke-opacity:1.0;stroke-width:1.0\"><title>Bombus centralis</title></rect><rect class=\"toyplot-Datum\" x=\"159.7560975609756\" y=\"228.86178861788616\" width=\"12.195121951219534\" height=\"71.13821138211384\" style=\"fill:rgb(40%,76.1%,64.7%);fill-opacity:1.0;opacity:1.0;stroke:rgb(100%,100%,100%);stroke-opacity:1.0;stroke-width:1.0\"><title>Bombus bimaculatus</title></rect><rect class=\"toyplot-Datum\" x=\"171.95121951219514\" y=\"228.86178861788616\" width=\"12.195121951219505\" height=\"71.13821138211384\" style=\"fill:rgb(40%,76.1%,64.7%);fill-opacity:1.0;opacity:1.0;stroke:rgb(100%,100%,100%);stroke-opacity:1.0;stroke-width:1.0\"><title>Bombus affinis</title></rect><rect class=\"toyplot-Datum\" x=\"184.14634146341464\" y=\"241.05691056910567\" width=\"12.195121951219505\" height=\"58.94308943089433\" style=\"fill:rgb(40%,76.1%,64.7%);fill-opacity:1.0;opacity:1.0;stroke:rgb(100%,100%,100%);stroke-opacity:1.0;stroke-width:1.0\"><title>Bombus variabilis</title></rect><rect class=\"toyplot-Datum\" x=\"196.34146341463415\" y=\"241.05691056910567\" width=\"12.195121951219534\" height=\"58.94308943089433\" style=\"fill:rgb(40%,76.1%,64.7%);fill-opacity:1.0;opacity:1.0;stroke:rgb(100%,100%,100%);stroke-opacity:1.0;stroke-width:1.0\"><title>Bombus insularis</title></rect><rect class=\"toyplot-Datum\" x=\"208.53658536585368\" y=\"245.1219512195122\" width=\"12.195121951219505\" height=\"54.8780487804878\" style=\"fill:rgb(40%,76.1%,64.7%);fill-opacity:1.0;opacity:1.0;stroke:rgb(100%,100%,100%);stroke-opacity:1.0;stroke-width:1.0\"><title>Bombus vosnesenskii</title></rect><rect class=\"toyplot-Datum\" x=\"220.7317073170732\" y=\"259.349593495935\" width=\"12.195121951219505\" height=\"40.65040650406502\" style=\"fill:rgb(40%,76.1%,64.7%);fill-opacity:1.0;opacity:1.0;stroke:rgb(100%,100%,100%);stroke-opacity:1.0;stroke-width:1.0\"><title>Bombus terricola</title></rect><rect class=\"toyplot-Datum\" x=\"232.9268292682927\" y=\"259.349593495935\" width=\"12.195121951219534\" height=\"40.65040650406502\" style=\"fill:rgb(40%,76.1%,64.7%);fill-opacity:1.0;opacity:1.0;stroke:rgb(100%,100%,100%);stroke-opacity:1.0;stroke-width:1.0\"><title>Bombus auricomus</title></rect><rect class=\"toyplot-Datum\" x=\"245.12195121951223\" y=\"265.44715447154476\" width=\"12.195121951219477\" height=\"34.55284552845524\" style=\"fill:rgb(40%,76.1%,64.7%);fill-opacity:1.0;opacity:1.0;stroke:rgb(100%,100%,100%);stroke-opacity:1.0;stroke-width:1.0\"><title>Bombus bifarius</title></rect><rect class=\"toyplot-Datum\" x=\"257.3170731707317\" y=\"271.5447154471545\" width=\"12.195121951219505\" height=\"28.455284552845512\" style=\"fill:rgb(40%,76.1%,64.7%);fill-opacity:1.0;opacity:1.0;stroke:rgb(100%,100%,100%);stroke-opacity:1.0;stroke-width:1.0\"><title>Bombus huntii</title></rect><rect class=\"toyplot-Datum\" x=\"269.5121951219512\" y=\"271.5447154471545\" width=\"12.195121951219562\" height=\"28.455284552845512\" style=\"fill:rgb(40%,76.1%,64.7%);fill-opacity:1.0;opacity:1.0;stroke:rgb(100%,100%,100%);stroke-opacity:1.0;stroke-width:1.0\"><title>Bombus nevadensis</title></rect><rect class=\"toyplot-Datum\" x=\"281.70731707317077\" y=\"271.5447154471545\" width=\"12.195121951219505\" height=\"28.455284552845512\" style=\"fill:rgb(40%,76.1%,64.7%);fill-opacity:1.0;opacity:1.0;stroke:rgb(100%,100%,100%);stroke-opacity:1.0;stroke-width:1.0\"><title>Bombus ternarius</title></rect><rect class=\"toyplot-Datum\" x=\"293.9024390243903\" y=\"273.57723577235777\" width=\"12.195121951219448\" height=\"26.422764227642233\" style=\"fill:rgb(40%,76.1%,64.7%);fill-opacity:1.0;opacity:1.0;stroke:rgb(100%,100%,100%);stroke-opacity:1.0;stroke-width:1.0\"><title>Bombus melanopygus</title></rect><rect class=\"toyplot-Datum\" x=\"306.0975609756097\" y=\"273.57723577235777\" width=\"12.195121951219562\" height=\"26.422764227642233\" style=\"fill:rgb(40%,76.1%,64.7%);fill-opacity:1.0;opacity:1.0;stroke:rgb(100%,100%,100%);stroke-opacity:1.0;stroke-width:1.0\"><title>Bombus fraternus</title></rect><rect class=\"toyplot-Datum\" x=\"318.2926829268293\" y=\"273.57723577235777\" width=\"12.195121951219505\" height=\"26.422764227642233\" style=\"fill:rgb(40%,76.1%,64.7%);fill-opacity:1.0;opacity:1.0;stroke:rgb(100%,100%,100%);stroke-opacity:1.0;stroke-width:1.0\"><title>Bombus appositus</title></rect><rect class=\"toyplot-Datum\" x=\"330.4878048780488\" y=\"275.609756097561\" width=\"12.195121951219505\" height=\"24.39024390243901\" style=\"fill:rgb(40%,76.1%,64.7%);fill-opacity:1.0;opacity:1.0;stroke:rgb(100%,100%,100%);stroke-opacity:1.0;stroke-width:1.0\"><title>Bombus suckleyi</title></rect><rect class=\"toyplot-Datum\" x=\"342.6829268292683\" y=\"277.64227642276427\" width=\"12.195121951219505\" height=\"22.35772357723573\" style=\"fill:rgb(40%,76.1%,64.7%);fill-opacity:1.0;opacity:1.0;stroke:rgb(100%,100%,100%);stroke-opacity:1.0;stroke-width:1.0\"><title>Bombus perplexus</title></rect><rect class=\"toyplot-Datum\" x=\"354.8780487804878\" y=\"281.70731707317077\" width=\"12.195121951219562\" height=\"18.29268292682923\" style=\"fill:rgb(40%,76.1%,64.7%);fill-opacity:1.0;opacity:1.0;stroke:rgb(100%,100%,100%);stroke-opacity:1.0;stroke-width:1.0\"><title>Bombus fernaldae</title></rect><rect class=\"toyplot-Datum\" x=\"367.07317073170736\" y=\"283.739837398374\" width=\"12.195121951219448\" height=\"16.260162601626007\" style=\"fill:rgb(40%,76.1%,64.7%);fill-opacity:1.0;opacity:1.0;stroke:rgb(100%,100%,100%);stroke-opacity:1.0;stroke-width:1.0\"><title>Bombus flavifrons</title></rect><rect class=\"toyplot-Datum\" x=\"379.2682926829268\" y=\"287.8048780487805\" width=\"12.195121951219562\" height=\"12.195121951219505\" style=\"fill:rgb(40%,76.1%,64.7%);fill-opacity:1.0;opacity:1.0;stroke:rgb(100%,100%,100%);stroke-opacity:1.0;stroke-width:1.0\"><title>Bombus sonorus</title></rect><rect class=\"toyplot-Datum\" x=\"391.4634146341464\" y=\"291.869918699187\" width=\"12.195121951219448\" height=\"8.130081300813004\" style=\"fill:rgb(40%,76.1%,64.7%);fill-opacity:1.0;opacity:1.0;stroke:rgb(100%,100%,100%);stroke-opacity:1.0;stroke-width:1.0\"><title>Bombus sylvicola</title></rect><rect class=\"toyplot-Datum\" x=\"403.6585365853658\" y=\"291.869918699187\" width=\"12.195121951219562\" height=\"8.130081300813004\" style=\"fill:rgb(40%,76.1%,64.7%);fill-opacity:1.0;opacity:1.0;stroke:rgb(100%,100%,100%);stroke-opacity:1.0;stroke-width:1.0\"><title>Bombus citrinus</title></rect><rect class=\"toyplot-Datum\" x=\"415.8536585365854\" y=\"293.9024390243903\" width=\"12.195121951219505\" height=\"6.097560975609724\" style=\"fill:rgb(40%,76.1%,64.7%);fill-opacity:1.0;opacity:1.0;stroke:rgb(100%,100%,100%);stroke-opacity:1.0;stroke-width:1.0\"><title>Bombus californicus</title></rect><rect class=\"toyplot-Datum\" x=\"428.0487804878049\" y=\"295.9349593495935\" width=\"12.195121951219562\" height=\"4.065040650406502\" style=\"fill:rgb(40%,76.1%,64.7%);fill-opacity:1.0;opacity:1.0;stroke:rgb(100%,100%,100%);stroke-opacity:1.0;stroke-width:1.0\"><title>Bombus mixtus</title></rect><rect class=\"toyplot-Datum\" x=\"440.24390243902445\" y=\"295.9349593495935\" width=\"12.195121951219448\" height=\"4.065040650406502\" style=\"fill:rgb(40%,76.1%,64.7%);fill-opacity:1.0;opacity:1.0;stroke:rgb(100%,100%,100%);stroke-opacity:1.0;stroke-width:1.0\"><title>Bombus sitkensis</title></rect><rect class=\"toyplot-Datum\" x=\"452.4390243902439\" y=\"297.9674796747968\" width=\"12.195121951219505\" height=\"2.0325203252032225\" style=\"fill:rgb(40%,76.1%,64.7%);fill-opacity:1.0;opacity:1.0;stroke:rgb(100%,100%,100%);stroke-opacity:1.0;stroke-width:1.0\"><title>Bombus ashtoni</title></rect><rect class=\"toyplot-Datum\" x=\"464.6341463414634\" y=\"297.9674796747968\" width=\"12.195121951219505\" height=\"2.0325203252032225\" style=\"fill:rgb(40%,76.1%,64.7%);fill-opacity:1.0;opacity:1.0;stroke:rgb(100%,100%,100%);stroke-opacity:1.0;stroke-width:1.0\"><title>Bombus borealis</title></rect><rect class=\"toyplot-Datum\" x=\"476.8292682926829\" y=\"297.9674796747968\" width=\"12.195121951219562\" height=\"2.0325203252032225\" style=\"fill:rgb(40%,76.1%,64.7%);fill-opacity:1.0;opacity:1.0;stroke:rgb(100%,100%,100%);stroke-opacity:1.0;stroke-width:1.0\"><title>Bombus balteatus</title></rect><rect class=\"toyplot-Datum\" x=\"489.0243902439025\" y=\"297.9674796747968\" width=\"12.195121951219505\" height=\"2.0325203252032225\" style=\"fill:rgb(40%,76.1%,64.7%);fill-opacity:1.0;opacity:1.0;stroke:rgb(100%,100%,100%);stroke-opacity:1.0;stroke-width:1.0\"><title>Bombus neoboreus</title></rect><rect class=\"toyplot-Datum\" x=\"501.219512195122\" y=\"297.9674796747968\" width=\"12.195121951219562\" height=\"2.0325203252032225\" style=\"fill:rgb(40%,76.1%,64.7%);fill-opacity:1.0;opacity:1.0;stroke:rgb(100%,100%,100%);stroke-opacity:1.0;stroke-width:1.0\"><title>Bombus lapponicus</title></rect><rect class=\"toyplot-Datum\" x=\"513.4146341463415\" y=\"297.9674796747968\" width=\"12.195121951219448\" height=\"2.0325203252032225\" style=\"fill:rgb(40%,76.1%,64.7%);fill-opacity:1.0;opacity:1.0;stroke:rgb(100%,100%,100%);stroke-opacity:1.0;stroke-width:1.0\"><title>Bombus separatus</title></rect><rect class=\"toyplot-Datum\" x=\"525.609756097561\" y=\"297.9674796747968\" width=\"12.195121951219562\" height=\"2.0325203252032225\" style=\"fill:rgb(40%,76.1%,64.7%);fill-opacity:1.0;opacity:1.0;stroke:rgb(100%,100%,100%);stroke-opacity:1.0;stroke-width:1.0\"><title>Bombus cockerelli</title></rect><rect class=\"toyplot-Datum\" x=\"537.8048780487806\" y=\"297.9674796747968\" width=\"12.195121951219448\" height=\"2.0325203252032225\" style=\"fill:rgb(40%,76.1%,64.7%);fill-opacity:1.0;opacity:1.0;stroke:rgb(100%,100%,100%);stroke-opacity:1.0;stroke-width:1.0\"><title>Bombus patagiatus</title></rect></g></g></g><g class=\"toyplot-coordinates-Axis\" id=\"t89a1e24270c74bf6a717acd7cecae999\" transform=\"translate(50.0,300.0)translate(0,10.0)\"><line x1=\"0\" y1=\"0\" x2=\"500.0\" y2=\"0\" style=\"\"></line><g><g transform=\"translate(6.097560975609756,6)\"><text x=\"-2.78\" y=\"8.555\" style=\"fill:rgb(16.1%,15.3%,14.1%);fill-opacity:1.0;font-family:helvetica;font-size:10.0px;font-weight:normal;stroke:none;vertical-align:baseline;white-space:pre\">0</text></g><g transform=\"translate(128.0487804878049,6)\"><text x=\"-5.56\" y=\"8.555\" style=\"fill:rgb(16.1%,15.3%,14.1%);fill-opacity:1.0;font-family:helvetica;font-size:10.0px;font-weight:normal;stroke:none;vertical-align:baseline;white-space:pre\">10</text></g><g transform=\"translate(250.0,6)\"><text x=\"-5.56\" y=\"8.555\" style=\"fill:rgb(16.1%,15.3%,14.1%);fill-opacity:1.0;font-family:helvetica;font-size:10.0px;font-weight:normal;stroke:none;vertical-align:baseline;white-space:pre\">20</text></g><g transform=\"translate(371.9512195121951,6)\"><text x=\"-5.56\" y=\"8.555\" style=\"fill:rgb(16.1%,15.3%,14.1%);fill-opacity:1.0;font-family:helvetica;font-size:10.0px;font-weight:normal;stroke:none;vertical-align:baseline;white-space:pre\">30</text></g><g transform=\"translate(493.9024390243902,6)\"><text x=\"-5.56\" y=\"8.555\" style=\"fill:rgb(16.1%,15.3%,14.1%);fill-opacity:1.0;font-family:helvetica;font-size:10.0px;font-weight:normal;stroke:none;vertical-align:baseline;white-space:pre\">40</text></g></g><g class=\"toyplot-coordinates-Axis-coordinates\" style=\"visibility:hidden\" transform=\"\"><line x1=\"0\" x2=\"0\" y1=\"-3.0\" y2=\"4.5\" style=\"stroke:rgb(43.9%,50.2%,56.5%);stroke-opacity:1.0;stroke-width:1.0\"></line><text x=\"0\" y=\"-6\" style=\"alignment-baseline:alphabetic;fill:rgb(43.9%,50.2%,56.5%);fill-opacity:1.0;font-size:10px;font-weight:normal;stroke:none;text-anchor:middle\"></text></g></g><g class=\"toyplot-coordinates-Axis\" id=\"t1ddf9c7dc2c0448d85ded606c9d41668\" transform=\"translate(50.0,300.0)rotate(-90.0)translate(0,-10.0)\"><line x1=\"0\" y1=\"0\" x2=\"250.0\" y2=\"0\" style=\"\"></line><g><g transform=\"translate(0.0,-6)\"><text x=\"-2.78\" y=\"-4.440892098500626e-16\" style=\"fill:rgb(16.1%,15.3%,14.1%);fill-opacity:1.0;font-family:helvetica;font-size:10.0px;font-weight:normal;stroke:none;vertical-align:baseline;white-space:pre\">0</text></g><g transform=\"translate(81.30081300813008,-6)\"><text x=\"-5.56\" y=\"-4.440892098500626e-16\" style=\"fill:rgb(16.1%,15.3%,14.1%);fill-opacity:1.0;font-family:helvetica;font-size:10.0px;font-weight:normal;stroke:none;vertical-align:baseline;white-space:pre\">40</text></g><g transform=\"translate(162.60162601626016,-6)\"><text x=\"-5.56\" y=\"-4.440892098500626e-16\" style=\"fill:rgb(16.1%,15.3%,14.1%);fill-opacity:1.0;font-family:helvetica;font-size:10.0px;font-weight:normal;stroke:none;vertical-align:baseline;white-space:pre\">80</text></g><g transform=\"translate(243.90243902439025,-6)\"><text x=\"-8.34\" y=\"-4.440892098500626e-16\" style=\"fill:rgb(16.1%,15.3%,14.1%);fill-opacity:1.0;font-family:helvetica;font-size:10.0px;font-weight:normal;stroke:none;vertical-align:baseline;white-space:pre\">120</text></g></g><g class=\"toyplot-coordinates-Axis-coordinates\" style=\"visibility:hidden\" transform=\"\"><line x1=\"0\" x2=\"0\" y1=\"3.0\" y2=\"-4.5\" style=\"stroke:rgb(43.9%,50.2%,56.5%);stroke-opacity:1.0;stroke-width:1.0\"></line><text x=\"0\" y=\"6\" style=\"alignment-baseline:hanging;fill:rgb(43.9%,50.2%,56.5%);fill-opacity:1.0;font-size:10px;font-weight:normal;stroke:none;text-anchor:middle\"></text></g></g></g></svg><div class=\"toyplot-behavior\"><script>(function()\n",
       "{\n",
       "var modules={};\n",
       "modules[\"toyplot/tables\"] = (function()\n",
       "    {\n",
       "        var tables = [];\n",
       "\n",
       "        var module = {};\n",
       "\n",
       "        module.set = function(owner, key, names, columns)\n",
       "        {\n",
       "            tables.push({owner: owner, key: key, names: names, columns: columns});\n",
       "        }\n",
       "\n",
       "        module.get = function(owner, key)\n",
       "        {\n",
       "            for(var i = 0; i != tables.length; ++i)\n",
       "            {\n",
       "                var table = tables[i];\n",
       "                if(table.owner != owner)\n",
       "                    continue;\n",
       "                if(table.key != key)\n",
       "                    continue;\n",
       "                return {names: table.names, columns: table.columns};\n",
       "            }\n",
       "        }\n",
       "\n",
       "        module.get_csv = function(owner, key)\n",
       "        {\n",
       "            var table = module.get(owner, key);\n",
       "            if(table != undefined)\n",
       "            {\n",
       "                var csv = \"\";\n",
       "                csv += table.names.join(\",\") + \"\\n\";\n",
       "                for(var i = 0; i != table.columns[0].length; ++i)\n",
       "                {\n",
       "                  for(var j = 0; j != table.columns.length; ++j)\n",
       "                  {\n",
       "                    if(j)\n",
       "                      csv += \",\";\n",
       "                    csv += table.columns[j][i];\n",
       "                  }\n",
       "                  csv += \"\\n\";\n",
       "                }\n",
       "                return csv;\n",
       "            }\n",
       "        }\n",
       "\n",
       "        return module;\n",
       "    })();\n",
       "modules[\"toyplot/root/id\"] = \"ta8c1e79540af4cc09d78f7526ac407d4\";\n",
       "modules[\"toyplot/root\"] = (function(root_id)\n",
       "    {\n",
       "        return document.querySelector(\"#\" + root_id);\n",
       "    })(modules[\"toyplot/root/id\"]);\n",
       "modules[\"toyplot/canvas/id\"] = \"t31206287fc2e43df912927d8defec57e\";\n",
       "modules[\"toyplot/canvas\"] = (function(canvas_id)\n",
       "    {\n",
       "        return document.querySelector(\"#\" + canvas_id);\n",
       "    })(modules[\"toyplot/canvas/id\"]);\n",
       "modules[\"toyplot/menus/context\"] = (function(root, canvas)\n",
       "    {\n",
       "        var wrapper = document.createElement(\"div\");\n",
       "        wrapper.innerHTML = \"<ul class='toyplot-context-menu' style='background:#eee; border:1px solid #b8b8b8; border-radius:5px; box-shadow: 0px 0px 8px rgba(0%,0%,0%,0.25); margin:0; padding:3px 0; position:fixed; visibility:hidden;'></ul>\"\n",
       "        var menu = wrapper.firstChild;\n",
       "\n",
       "        root.appendChild(menu);\n",
       "\n",
       "        var items = [];\n",
       "\n",
       "        var ignore_mouseup = null;\n",
       "        function open_menu(e)\n",
       "        {\n",
       "            var show_menu = false;\n",
       "            for(var index=0; index != items.length; ++index)\n",
       "            {\n",
       "                var item = items[index];\n",
       "                if(item.show(e))\n",
       "                {\n",
       "                    item.item.style.display = \"block\";\n",
       "                    show_menu = true;\n",
       "                }\n",
       "                else\n",
       "                {\n",
       "                    item.item.style.display = \"none\";\n",
       "                }\n",
       "            }\n",
       "\n",
       "            if(show_menu)\n",
       "            {\n",
       "                ignore_mouseup = true;\n",
       "                menu.style.left = (e.clientX + 1) + \"px\";\n",
       "                menu.style.top = (e.clientY - 5) + \"px\";\n",
       "                menu.style.visibility = \"visible\";\n",
       "                e.stopPropagation();\n",
       "                e.preventDefault();\n",
       "            }\n",
       "        }\n",
       "\n",
       "        function close_menu()\n",
       "        {\n",
       "            menu.style.visibility = \"hidden\";\n",
       "        }\n",
       "\n",
       "        function contextmenu(e)\n",
       "        {\n",
       "            open_menu(e);\n",
       "        }\n",
       "\n",
       "        function mousemove(e)\n",
       "        {\n",
       "            ignore_mouseup = false;\n",
       "        }\n",
       "\n",
       "        function mouseup(e)\n",
       "        {\n",
       "            if(ignore_mouseup)\n",
       "            {\n",
       "                ignore_mouseup = false;\n",
       "                return;\n",
       "            }\n",
       "            close_menu();\n",
       "        }\n",
       "\n",
       "        function keydown(e)\n",
       "        {\n",
       "            if(e.key == \"Escape\" || e.key == \"Esc\" || e.keyCode == 27)\n",
       "            {\n",
       "                close_menu();\n",
       "            }\n",
       "        }\n",
       "\n",
       "        canvas.addEventListener(\"contextmenu\", contextmenu);\n",
       "        canvas.addEventListener(\"mousemove\", mousemove);\n",
       "        document.addEventListener(\"mouseup\", mouseup);\n",
       "        document.addEventListener(\"keydown\", keydown);\n",
       "\n",
       "        var module = {};\n",
       "        module.add_item = function(label, show, activate)\n",
       "        {\n",
       "            var wrapper = document.createElement(\"div\");\n",
       "            wrapper.innerHTML = \"<li class='toyplot-context-menu-item' style='background:#eee; color:#333; padding:2px 20px; list-style:none; margin:0; text-align:left;'>\" + label + \"</li>\"\n",
       "            var item = wrapper.firstChild;\n",
       "\n",
       "            items.push({item: item, show: show});\n",
       "\n",
       "            function mouseover()\n",
       "            {\n",
       "                this.style.background = \"steelblue\";\n",
       "                this.style.color = \"white\";\n",
       "            }\n",
       "\n",
       "            function mouseout()\n",
       "            {\n",
       "                this.style.background = \"#eee\";\n",
       "                this.style.color = \"#333\";\n",
       "            }\n",
       "\n",
       "            function choose_item(e)\n",
       "            {\n",
       "                close_menu();\n",
       "                activate();\n",
       "\n",
       "                e.stopPropagation();\n",
       "                e.preventDefault();\n",
       "            }\n",
       "\n",
       "            item.addEventListener(\"mouseover\", mouseover);\n",
       "            item.addEventListener(\"mouseout\", mouseout);\n",
       "            item.addEventListener(\"mouseup\", choose_item);\n",
       "            item.addEventListener(\"contextmenu\", choose_item);\n",
       "\n",
       "            menu.appendChild(item);\n",
       "        };\n",
       "        return module;\n",
       "    })(modules[\"toyplot/root\"],modules[\"toyplot/canvas\"]);\n",
       "modules[\"toyplot/io\"] = (function()\n",
       "    {\n",
       "        var module = {};\n",
       "        module.save_file = function(mime_type, charset, data, filename)\n",
       "        {\n",
       "            var uri = \"data:\" + mime_type + \";charset=\" + charset + \",\" + data;\n",
       "            uri = encodeURI(uri);\n",
       "\n",
       "            var link = document.createElement(\"a\");\n",
       "            if(typeof link.download != \"undefined\")\n",
       "            {\n",
       "              link.href = uri;\n",
       "              link.style = \"visibility:hidden\";\n",
       "              link.download = filename;\n",
       "\n",
       "              document.body.appendChild(link);\n",
       "              link.click();\n",
       "              document.body.removeChild(link);\n",
       "            }\n",
       "            else\n",
       "            {\n",
       "              window.open(uri);\n",
       "            }\n",
       "        };\n",
       "        return module;\n",
       "    })();\n",
       "modules[\"toyplot.coordinates.Axis\"] = (\n",
       "        function(canvas)\n",
       "        {\n",
       "            function sign(x)\n",
       "            {\n",
       "                return x < 0 ? -1 : x > 0 ? 1 : 0;\n",
       "            }\n",
       "\n",
       "            function mix(a, b, amount)\n",
       "            {\n",
       "                return ((1.0 - amount) * a) + (amount * b);\n",
       "            }\n",
       "\n",
       "            function log(x, base)\n",
       "            {\n",
       "                return Math.log(Math.abs(x)) / Math.log(base);\n",
       "            }\n",
       "\n",
       "            function in_range(a, x, b)\n",
       "            {\n",
       "                var left = Math.min(a, b);\n",
       "                var right = Math.max(a, b);\n",
       "                return left <= x && x <= right;\n",
       "            }\n",
       "\n",
       "            function inside(range, projection)\n",
       "            {\n",
       "                for(var i = 0; i != projection.length; ++i)\n",
       "                {\n",
       "                    var segment = projection[i];\n",
       "                    if(in_range(segment.range.min, range, segment.range.max))\n",
       "                        return true;\n",
       "                }\n",
       "                return false;\n",
       "            }\n",
       "\n",
       "            function to_domain(range, projection)\n",
       "            {\n",
       "                for(var i = 0; i != projection.length; ++i)\n",
       "                {\n",
       "                    var segment = projection[i];\n",
       "                    if(in_range(segment.range.bounds.min, range, segment.range.bounds.max))\n",
       "                    {\n",
       "                        if(segment.scale == \"linear\")\n",
       "                        {\n",
       "                            var amount = (range - segment.range.min) / (segment.range.max - segment.range.min);\n",
       "                            return mix(segment.domain.min, segment.domain.max, amount)\n",
       "                        }\n",
       "                        else if(segment.scale[0] == \"log\")\n",
       "                        {\n",
       "                            var amount = (range - segment.range.min) / (segment.range.max - segment.range.min);\n",
       "                            var base = segment.scale[1];\n",
       "                            return sign(segment.domain.min) * Math.pow(base, mix(log(segment.domain.min, base), log(segment.domain.max, base), amount));\n",
       "                        }\n",
       "                    }\n",
       "                }\n",
       "            }\n",
       "\n",
       "            var axes = {};\n",
       "\n",
       "            function display_coordinates(e)\n",
       "            {\n",
       "                var current = canvas.createSVGPoint();\n",
       "                current.x = e.clientX;\n",
       "                current.y = e.clientY;\n",
       "\n",
       "                for(var axis_id in axes)\n",
       "                {\n",
       "                    var axis = document.querySelector(\"#\" + axis_id);\n",
       "                    var coordinates = axis.querySelector(\".toyplot-coordinates-Axis-coordinates\");\n",
       "                    if(coordinates)\n",
       "                    {\n",
       "                        var projection = axes[axis_id];\n",
       "                        var local = current.matrixTransform(axis.getScreenCTM().inverse());\n",
       "                        if(inside(local.x, projection))\n",
       "                        {\n",
       "                            var domain = to_domain(local.x, projection);\n",
       "                            coordinates.style.visibility = \"visible\";\n",
       "                            coordinates.setAttribute(\"transform\", \"translate(\" + local.x + \")\");\n",
       "                            var text = coordinates.querySelector(\"text\");\n",
       "                            text.textContent = domain.toFixed(2);\n",
       "                        }\n",
       "                        else\n",
       "                        {\n",
       "                            coordinates.style.visibility= \"hidden\";\n",
       "                        }\n",
       "                    }\n",
       "                }\n",
       "            }\n",
       "\n",
       "            canvas.addEventListener(\"click\", display_coordinates);\n",
       "\n",
       "            var module = {};\n",
       "            module.show_coordinates = function(axis_id, projection)\n",
       "            {\n",
       "                axes[axis_id] = projection;\n",
       "            }\n",
       "\n",
       "            return module;\n",
       "        })(modules[\"toyplot/canvas\"]);\n",
       "(function(tables, context_menu, io, owner_id, key, label, names, columns, filename)\n",
       "        {\n",
       "            tables.set(owner_id, key, names, columns);\n",
       "\n",
       "            var owner = document.querySelector(\"#\" + owner_id);\n",
       "            function show_item(e)\n",
       "            {\n",
       "                return owner.contains(e.target);\n",
       "            }\n",
       "\n",
       "            function choose_item()\n",
       "            {\n",
       "                io.save_file(\"text/csv\", \"utf-8\", tables.get_csv(owner_id, key), filename + \".csv\");\n",
       "            }\n",
       "\n",
       "            context_menu.add_item(\"Save \" + label + \" as CSV\", show_item, choose_item);\n",
       "        })(modules[\"toyplot/tables\"],modules[\"toyplot/menus/context\"],modules[\"toyplot/io\"],\"te884a93f2c8542e6b34779ed2600cef3\",\"data\",\"bar data\",[\"left\", \"right\", \"baseline\", \"magnitude0\"],[[-0.5, 0.5, 1.5, 2.5, 3.5, 4.5, 5.5, 6.5, 7.5, 8.5, 9.5, 10.5, 11.5, 12.5, 13.5, 14.5, 15.5, 16.5, 17.5, 18.5, 19.5, 20.5, 21.5, 22.5, 23.5, 24.5, 25.5, 26.5, 27.5, 28.5, 29.5, 30.5, 31.5, 32.5, 33.5, 34.5, 35.5, 36.5, 37.5, 38.5, 39.5], [0.5, 1.5, 2.5, 3.5, 4.5, 5.5, 6.5, 7.5, 8.5, 9.5, 10.5, 11.5, 12.5, 13.5, 14.5, 15.5, 16.5, 17.5, 18.5, 19.5, 20.5, 21.5, 22.5, 23.5, 24.5, 25.5, 26.5, 27.5, 28.5, 29.5, 30.5, 31.5, 32.5, 33.5, 34.5, 35.5, 36.5, 37.5, 38.5, 39.5, 40.5], [0.0, 0.0, 0.0, 0.0, 0.0, 0.0, 0.0, 0.0, 0.0, 0.0, 0.0, 0.0, 0.0, 0.0, 0.0, 0.0, 0.0, 0.0, 0.0, 0.0, 0.0, 0.0, 0.0, 0.0, 0.0, 0.0, 0.0, 0.0, 0.0, 0.0, 0.0, 0.0, 0.0, 0.0, 0.0, 0.0, 0.0, 0.0, 0.0, 0.0, 0.0], [123.0, 96.0, 85.0, 82.0, 74.0, 73.0, 50.0, 39.0, 38.0, 35.0, 35.0, 29.0, 29.0, 27.0, 20.0, 20.0, 17.0, 14.0, 14.0, 14.0, 13.0, 13.0, 13.0, 12.0, 11.0, 9.0, 8.0, 6.0, 4.0, 4.0, 3.0, 2.0, 2.0, 1.0, 1.0, 1.0, 1.0, 1.0, 1.0, 1.0, 1.0]],\"toyplot\");\n",
       "(function(axis, axis_id, projection)\n",
       "        {\n",
       "            axis.show_coordinates(axis_id, projection);\n",
       "        })(modules[\"toyplot.coordinates.Axis\"],\"t89a1e24270c74bf6a717acd7cecae999\",[{\"domain\": {\"bounds\": {\"max\": Infinity, \"min\": -Infinity}, \"max\": 40.5, \"min\": -0.5}, \"range\": {\"bounds\": {\"max\": Infinity, \"min\": -Infinity}, \"max\": 500.0, \"min\": 0.0}, \"scale\": \"linear\"}]);\n",
       "(function(axis, axis_id, projection)\n",
       "        {\n",
       "            axis.show_coordinates(axis_id, projection);\n",
       "        })(modules[\"toyplot.coordinates.Axis\"],\"t1ddf9c7dc2c0448d85ded606c9d41668\",[{\"domain\": {\"bounds\": {\"max\": Infinity, \"min\": -Infinity}, \"max\": 123.0, \"min\": 0.0}, \"range\": {\"bounds\": {\"max\": Infinity, \"min\": -Infinity}, \"max\": 250.0, \"min\": 0.0}, \"scale\": \"linear\"}]);\n",
       "})();</script></div></div>"
      ]
     },
     "metadata": {},
     "output_type": "display_data"
    }
   ],
   "source": [
    "# plot the number of each species in order (hover over bars for names)\n",
    "sp_counts = df.species.value_counts()\n",
    "toyplot.bars(sp_counts, height=350, title=sp_counts.index);"
   ]
  },
  {
   "cell_type": "markdown",
   "metadata": {},
   "source": [
    "Hover over the bars in the plot above to see the names of species. From this we can easily see which species have the most records, and which are more rare."
   ]
  },
  {
   "cell_type": "markdown",
   "metadata": {},
   "source": [
    "## Assignment: \n",
    "\n",
    "### Task 1: \n",
    "Write a Class object called `Records` that can be given a taxon query and a range of years and will return a class instance with all results from GBIF for the queried range using the same params from our example above, but allowing the 'genusKey' and 'year' arguments to be changed. You can reuse the code above to create the core functions for your object, and modify it further if you wish. Look at the example below for the intended usage of your `Records` class object. It should do the following:\n",
    "\n",
    "1. Store the genusKey and year params during init().\n",
    "2. Write the function `get_single_batch` to take optional arguments that limit the number of results, and have it *return* a JSON result as a dictionary.\n",
    "3. Write the fuction `get_all_records` to store the JSON results to the instance object, storing JSON as a dictionary to `self.json` and as a dataframe to `self.df`. \n"
   ]
  },
  {
   "cell_type": "code",
   "execution_count": 49,
   "metadata": {},
   "outputs": [],
   "source": [
    "# skeleton of a class\n",
    "\n",
    "class Records:\n",
    "    def __init__(self, genusKey=None, year=None):\n",
    "        \n",
    "        # store input params\n",
    "        self.genusKey = genusKey\n",
    "        self.year = year\n",
    "        \n",
    "        # will be used to store output results\n",
    "        self.df = None\n",
    "        self.json = None\n",
    "        \n",
    "    def get_single_batch(self, offset=0, limit=20):\n",
    "        \"returns JSON result for a small batch query\"\n",
    "        res = requests.get(\n",
    "        url=\"https://api.gbif.org/v1/occurrence/search/\",\n",
    "        params={\n",
    "            \"genusKey\": self.genusKey,\n",
    "            \"year\": self.year,\n",
    "            \"offset\": offset,\n",
    "            \"limit\": limit,\n",
    "            \"hasCoordinate\": \"true\",\n",
    "            \"country\": \"US\",\n",
    "            }\n",
    "        )\n",
    "        return res.json()\n",
    "        \n",
    "    def get_all_records(self):\n",
    "        \"stores result for all records to self.json and self.df\"\n",
    "        # for storing results\n",
    "        alldata = []\n",
    "    \n",
    "        # continue until we call 'break'\n",
    "        offset = 0\n",
    "        while 1:\n",
    "        \n",
    "            # get JSON data for a batch \n",
    "            self.json = self.get_single_batch(offset, 300)\n",
    "        \n",
    "            # increment counter by 300 (the max limit)\n",
    "            offset += 300\n",
    "        \n",
    "            # add this batch of data to the growing list\n",
    "            alldata.extend(self.json[\"results\"])\n",
    "        \n",
    "            # stop when end of record is reached\n",
    "            if self.json[\"endOfRecords\"]:\n",
    "                print(f'Done. Found {len(alldata)} records')\n",
    "                break\n",
    "            \n",
    "            # print a dot on each rep to show progress\n",
    "            print('.', end='')\n",
    "        \n",
    "        #store the result as self.df \n",
    "        self.df = pd.json_normalize(alldata)\n",
    "        return self.df"
   ]
  },
  {
   "cell_type": "markdown",
   "metadata": {},
   "source": [
    "When finished, you should be able to use your class object in the following way. This means that after writing your Class object, test it using the code below and make sure it gives proper results, otherwise keep hacking away at it. \n",
    "\n",
    "**You need to write the Records class before executing the code below**"
   ]
  },
  {
   "cell_type": "code",
   "execution_count": 51,
   "metadata": {},
   "outputs": [
    {
     "name": "stdout",
     "output_type": "stream",
     "text": [
      "..........................................Done. Found 12692 records\n"
     ]
    },
    {
     "data": {
      "text/plain": [
       "(12692, 144)"
      ]
     },
     "execution_count": 51,
     "metadata": {},
     "output_type": "execute_result"
    }
   ],
   "source": [
    "# create instance by entering query and a range of years as integers\n",
    "rec = Records(genusKey=1340278, year=\"1980,1985\")\n",
    "\n",
    "# show a small result\n",
    "print(rec.get_single_batch(offset=0, limit=10))\n",
    "\n",
    "# get all records\n",
    "rec.get_all_records()\n",
    "\n",
    "# access all of the returned records as a dataframe \n",
    "# (here asking for the shape to see how many records there are)\n",
    "rec.df.shape"
   ]
  },
  {
   "cell_type": "markdown",
   "metadata": {},
   "source": [
    "### Task 2: \n",
    "Once you have tested your Record class object in this notebook and it is working, follow these instructions to create a Python package with the following file structure:\n",
    "\n",
    "```\n",
    "records/\n",
    "├── setup.py\n",
    "└── records/\n",
    "    ├── __init__.py\n",
    "    └── records.py\n",
    "```\n",
    "\n",
    "1. Create a new GitHub repo called 'records'.\n",
    "2. Clone it to your computer.\n",
    "3. Create a subfolder called records (`records/records/`)\n",
    "4. Create an init file (`records/records/__init__.py`)\n",
    "5. Create a module called records.py (`records/records/records.py`)\n",
    "6. Open the folder in your text editor (vscode or sublime)\n",
    "7. Copy your Records class object from here to records.py.\n",
    "8. Create a setup.py script to make your package installable (`records/setup.py`). \n",
    "9. Run `pip install -e .` from `records/` to install your package locally. \n",
    "10. Test that your package is installed and working by importing your new package (called records) in the cell below and running the code. Try to make the Records class object importable in this way. (You may need to restart your notebook). Seek help if you get stuck."
   ]
  },
  {
   "cell_type": "code",
   "execution_count": 1,
   "metadata": {},
   "outputs": [
    {
     "name": "stdout",
     "output_type": "stream",
     "text": [
      "{'offset': 0, 'limit': 20, 'endOfRecords': False, 'count': 16499, 'results': [{'key': 1800889330, 'datasetKey': '262f8270-f9c2-4bc6-a562-8ed71c0790e6', 'publishingOrgKey': '5ffa575c-fcd4-4583-9611-545f67b04316', 'installationKey': 'aafdc932-75f7-4414-9d40-faf72a525aec', 'publishingCountry': 'US', 'protocol': 'DWC_ARCHIVE', 'lastCrawled': '2020-12-10T08:57:45.723+00:00', 'lastParsed': '2020-12-15T22:36:54.068+00:00', 'crawlId': 127, 'hostingOrganizationKey': '5ffa575c-fcd4-4583-9611-545f67b04316', 'extensions': {}, 'basisOfRecord': 'PRESERVED_SPECIMEN', 'individualCount': 1, 'occurrenceStatus': 'PRESENT', 'lifeStage': 'Adult', 'taxonKey': 1340278, 'kingdomKey': 1, 'phylumKey': 54, 'classKey': 216, 'orderKey': 1457, 'familyKey': 4334, 'genusKey': 1340278, 'acceptedTaxonKey': 1340278, 'scientificName': 'Bombus Latreille, 1802', 'acceptedScientificName': 'Bombus Latreille, 1802', 'kingdom': 'Animalia', 'phylum': 'Arthropoda', 'order': 'Hymenoptera', 'family': 'Apidae', 'genus': 'Bombus', 'genericName': 'Bombus', 'taxonRank': 'GENUS', 'taxonomicStatus': 'ACCEPTED', 'dateIdentified': '2009-01-01T00:00:00', 'decimalLongitude': -81.5026, 'decimalLatitude': 28.7336, 'stateProvince': 'Florida', 'year': 2000, 'month': 2, 'day': 13, 'eventDate': '2000-02-13T00:00:00', 'issues': ['GEODETIC_DATUM_ASSUMED_WGS84', 'OCCURRENCE_STATUS_INFERRED_FROM_INDIVIDUAL_COUNT', 'INSTITUTION_MATCH_NONE', 'COLLECTION_MATCH_FUZZY'], 'modified': '2016-10-17T22:15:33.000+00:00', 'lastInterpreted': '2020-12-15T22:36:54.068+00:00', 'license': 'http://creativecommons.org/licenses/by/4.0/legalcode', 'identifiers': [], 'media': [], 'facts': [], 'relations': [], 'gadm': {'level0': {'gid': 'USA', 'name': 'United States'}, 'level1': {'gid': 'USA.10_1', 'name': 'Florida'}, 'level2': {'gid': 'USA.10.48_1', 'name': 'Orange'}}, 'collectionKey': '39b0923c-3a78-4019-9cca-cd95bddaf1a5', 'isInCluster': False, 'geodeticDatum': 'WGS84', 'class': 'Insecta', 'countryCode': 'US', 'recordedByIDs': [], 'identifiedByIDs': [], 'country': 'United States of America', 'identifier': 'urn:lsid:biosci.ohio-state.edu:osuc_occurrences:UCFC__0__396__588', 'habitat': 'long leaf pine-turkey oak', 'scientificNameID': 'urn:lsid:biosci.ohio-state.edu:osuc_names:23188', 'verbatimEventDate': '13 February 2000', 'county': 'Orange', 'locality': 'Apopka, Wekiwa Springs State Park, Orange Co., FL', 'georeferenceRemarks': 'GPS coordinates: USGS GNIS (Apopka)', 'fieldNumber': 'UCFC Lot ID: 8541', 'gbifID': '1800889330', 'language': 'en', 'collectionCode': 'Arthropods', 'occurrenceID': 'urn:lsid:biosci.ohio-state.edu:osuc_occurrences:UCFC__0__396__588', 'preparations': 'pin', 'catalogNumber': 'UCFC 0 396 588', 'recordedBy': 'Russell, P. J. (Phillip J.) & Fullerton, S. M. (Stuart M.)', 'institutionCode': 'University of Central Florida Collection of Arthopods (UCFC)', 'fieldNotes': 'lot_id: 8541; preparation: pinned', 'samplingProtocol': 'yellow pan trap', 'identifiedBy': 'Russell, P. J. (Phillip J.)', 'georeferenceSources': 'Source Coord'}, {'key': 2382618605, 'datasetKey': '5d283bb6-64dd-4626-8b3b-a4e8db5415c3', 'publishingOrgKey': '0dc9c7a0-b5c6-11d9-a0b8-b8a03c50a862', 'installationKey': '92d2fa2a-f305-4bb1-9fe6-fa762d6ebb69', 'publishingCountry': 'US', 'protocol': 'DWC_ARCHIVE', 'lastCrawled': '2021-02-20T06:59:28.417+00:00', 'lastParsed': '2021-02-20T07:04:12.280+00:00', 'crawlId': 335, 'hostingOrganizationKey': '0dc9c7a0-b5c6-11d9-a0b8-b8a03c50a862', 'extensions': {}, 'basisOfRecord': 'PRESERVED_SPECIMEN', 'individualCount': 1, 'occurrenceStatus': 'PRESENT', 'lifeStage': 'Adult', 'taxonKey': 1340382, 'kingdomKey': 1, 'phylumKey': 54, 'classKey': 216, 'orderKey': 1457, 'familyKey': 4334, 'genusKey': 1340278, 'speciesKey': 1340382, 'acceptedTaxonKey': 1340382, 'scientificName': 'Bombus bimaculatus Cresson, 1863', 'acceptedScientificName': 'Bombus bimaculatus Cresson, 1863', 'kingdom': 'Animalia', 'phylum': 'Arthropoda', 'order': 'Hymenoptera', 'family': 'Apidae', 'genus': 'Bombus', 'species': 'Bombus bimaculatus', 'genericName': 'Bombus', 'specificEpithet': 'bimaculatus', 'taxonRank': 'SPECIES', 'taxonomicStatus': 'ACCEPTED', 'decimalLongitude': -93.12417, 'decimalLatitude': 36.71361, 'coordinateUncertaintyInMeters': 500.0, 'stateProvince': 'Missouri', 'year': 2000, 'month': 3, 'day': 26, 'eventDate': '2000-03-26T00:00:00', 'issues': ['OCCURRENCE_STATUS_INFERRED_FROM_INDIVIDUAL_COUNT', 'AMBIGUOUS_COLLECTION', 'INSTITUTION_MATCH_NONE'], 'lastInterpreted': '2021-02-20T07:04:12.280+00:00', 'references': 'http://essigdb.berkeley.edu/cgi/eme_query?bnhm_id=UCRCENT287636&one=T', 'license': 'http://creativecommons.org/licenses/by/4.0/legalcode', 'identifiers': [], 'media': [], 'facts': [], 'relations': [], 'gadm': {'level0': {'gid': 'USA', 'name': 'United States'}, 'level1': {'gid': 'USA.26_1', 'name': 'Missouri'}, 'level2': {'gid': 'USA.26.106_1', 'name': 'Taney'}}, 'isInCluster': False, 'geodeticDatum': 'WGS84', 'class': 'Insecta', 'countryCode': 'US', 'recordedByIDs': [], 'identifiedByIDs': [], 'country': 'United States of America', 'preparations': 'pin', 'identifier': 'urn:catalog:UCRC:ENT:287636', 'catalogNumber': 'UCRCENT287636', 'institutionCode': 'UCRC', 'rights': 'https://creativecommons.org/publicdomain/zero/1.0/', 'locality': '2 mi N of Forsyth', 'county': 'Taney County', 'gbifID': '2382618605', 'collectionCode': 'ENT', 'occurrenceID': 'urn:catalog:UCRC:ENT:287636', 'accessRights': 'http://vertnet.org/resources/norms.html'}, {'key': 2468725342, 'datasetKey': '9b12d595-11ea-4128-88ea-ed378eb9ea9a', 'publishingOrgKey': 'c2ecae57-6701-485e-9ebd-5f87b2945cb2', 'installationKey': '2c733a9d-363d-4d66-9aef-3e0f7bc44bec', 'publishingCountry': 'US', 'protocol': 'DWC_ARCHIVE', 'lastCrawled': '2021-02-08T22:35:27.804+00:00', 'lastParsed': '2021-02-08T22:40:45.409+00:00', 'crawlId': 199, 'hostingOrganizationKey': 'a86e9e36-12ec-49a4-a94c-c0c981fffb71', 'extensions': {}, 'basisOfRecord': 'PRESERVED_SPECIMEN', 'occurrenceStatus': 'PRESENT', 'taxonKey': 1340416, 'kingdomKey': 1, 'phylumKey': 54, 'classKey': 216, 'orderKey': 1457, 'familyKey': 4334, 'genusKey': 1340278, 'speciesKey': 1340416, 'acceptedTaxonKey': 1340416, 'scientificName': 'Bombus pensylvanicus (De Geer, 1773)', 'acceptedScientificName': 'Bombus pensylvanicus (De Geer, 1773)', 'kingdom': 'Animalia', 'phylum': 'Arthropoda', 'order': 'Hymenoptera', 'family': 'Apidae', 'genus': 'Bombus', 'species': 'Bombus pensylvanicus', 'genericName': 'Bombus', 'specificEpithet': 'pensylvanicus', 'taxonRank': 'SPECIES', 'taxonomicStatus': 'ACCEPTED', 'decimalLongitude': -88.714217, 'decimalLatitude': 33.416233, 'coordinateUncertaintyInMeters': 2702.0, 'stateProvince': 'Mississippi', 'year': 2000, 'month': 3, 'day': 19, 'eventDate': '2000-03-19T00:00:00', 'issues': ['TAXON_MATCH_FUZZY', 'INSTITUTION_MATCH_FUZZY', 'COLLECTION_MATCH_FUZZY'], 'modified': '2020-03-27T09:43:43.000+00:00', 'lastInterpreted': '2021-02-08T22:40:45.409+00:00', 'references': 'https://scan-bugs.org:443/portal/collections/individual/index.php?occid=40092523', 'license': 'http://creativecommons.org/publicdomain/zero/1.0/legalcode', 'identifiers': [], 'media': [], 'facts': [], 'relations': [], 'gadm': {'level0': {'gid': 'USA', 'name': 'United States'}, 'level1': {'gid': 'USA.25_1', 'name': 'Mississippi'}, 'level2': {'gid': 'USA.25.53_1', 'name': 'Oktibbeha'}}, 'institutionKey': '027af406-0999-4652-9aa8-95c9a9ea678f', 'collectionKey': '06323d33-14d6-40ee-aa05-76ea1918254e', 'isInCluster': False, 'geodeticDatum': 'WGS84', 'class': 'Insecta', 'countryCode': 'US', 'recordedByIDs': [], 'identifiedByIDs': [], 'country': 'United States of America', 'rightsHolder': 'Mississippi Entomological Museum', 'identifier': '40092523', 'habitat': 'Black Belt Prairie', 'verbatimEventDate': '19 Mar 2000 to 25 Mar 2000', 'georeferencedBy': 'JLewis (2020-03-27 09:43:43)', 'http://unknown.org/recordId': 'urn:uuid:42770c4e-007d-4605-9908-ed5e9a3c78e0', 'georeferenceVerificationStatus': 'reviewed - high confidence', 'county': 'Oktibbeha', 'locality': 'Sessums', 'gbifID': '2468725342', 'collectionCode': 'MEM', 'occurrenceID': '42770c4e-007d-4605-9908-ed5e9a3c78e0', 'taxonID': '236953', 'catalogNumber': 'MEM 666', 'recordedBy': 'Smith/MacGown', 'institutionCode': 'MISSA', 'rights': 'http://creativecommons.org/publicdomain/zero/1.0/', 'startDayOfYear': '79', 'samplingProtocol': 'malaise', 'identifiedBy': 'Smith, B.A.', 'collectionID': '681c0543-167b-4f2a-94d3-61e9d3183ad3', 'georeferenceSources': 'georef batch tool 2020-03-27; GeoLocate'}, {'key': 2468725779, 'datasetKey': '9b12d595-11ea-4128-88ea-ed378eb9ea9a', 'publishingOrgKey': 'c2ecae57-6701-485e-9ebd-5f87b2945cb2', 'installationKey': '2c733a9d-363d-4d66-9aef-3e0f7bc44bec', 'publishingCountry': 'US', 'protocol': 'DWC_ARCHIVE', 'lastCrawled': '2021-02-08T22:35:27.804+00:00', 'lastParsed': '2021-02-08T22:40:45.258+00:00', 'crawlId': 199, 'hostingOrganizationKey': 'a86e9e36-12ec-49a4-a94c-c0c981fffb71', 'extensions': {}, 'basisOfRecord': 'PRESERVED_SPECIMEN', 'occurrenceStatus': 'PRESENT', 'taxonKey': 1340416, 'kingdomKey': 1, 'phylumKey': 54, 'classKey': 216, 'orderKey': 1457, 'familyKey': 4334, 'genusKey': 1340278, 'speciesKey': 1340416, 'acceptedTaxonKey': 1340416, 'scientificName': 'Bombus pensylvanicus (De Geer, 1773)', 'acceptedScientificName': 'Bombus pensylvanicus (De Geer, 1773)', 'kingdom': 'Animalia', 'phylum': 'Arthropoda', 'order': 'Hymenoptera', 'family': 'Apidae', 'genus': 'Bombus', 'species': 'Bombus pensylvanicus', 'genericName': 'Bombus', 'specificEpithet': 'pensylvanicus', 'taxonRank': 'SPECIES', 'taxonomicStatus': 'ACCEPTED', 'decimalLongitude': -88.714217, 'decimalLatitude': 33.416233, 'coordinateUncertaintyInMeters': 2702.0, 'stateProvince': 'Mississippi', 'year': 2000, 'month': 3, 'day': 19, 'eventDate': '2000-03-19T00:00:00', 'issues': ['TAXON_MATCH_FUZZY', 'INSTITUTION_MATCH_FUZZY', 'COLLECTION_MATCH_FUZZY'], 'modified': '2020-03-27T09:43:43.000+00:00', 'lastInterpreted': '2021-02-08T22:40:45.258+00:00', 'references': 'https://scan-bugs.org:443/portal/collections/individual/index.php?occid=40092524', 'license': 'http://creativecommons.org/publicdomain/zero/1.0/legalcode', 'identifiers': [], 'media': [], 'facts': [], 'relations': [], 'gadm': {'level0': {'gid': 'USA', 'name': 'United States'}, 'level1': {'gid': 'USA.25_1', 'name': 'Mississippi'}, 'level2': {'gid': 'USA.25.53_1', 'name': 'Oktibbeha'}}, 'institutionKey': '027af406-0999-4652-9aa8-95c9a9ea678f', 'collectionKey': '06323d33-14d6-40ee-aa05-76ea1918254e', 'isInCluster': False, 'geodeticDatum': 'WGS84', 'class': 'Insecta', 'countryCode': 'US', 'recordedByIDs': [], 'identifiedByIDs': [], 'country': 'United States of America', 'rightsHolder': 'Mississippi Entomological Museum', 'identifier': '40092524', 'habitat': 'Black Belt Prairie', 'verbatimEventDate': '19 Mar 2000 to 25 Mar 2000', 'georeferencedBy': 'JLewis (2020-03-27 09:43:43)', 'http://unknown.org/recordId': 'urn:uuid:0b029449-9080-4380-ab8f-652c13c1e133', 'georeferenceVerificationStatus': 'reviewed - high confidence', 'county': 'Oktibbeha', 'locality': 'Sessums', 'gbifID': '2468725779', 'collectionCode': 'MEM', 'occurrenceID': '0b029449-9080-4380-ab8f-652c13c1e133', 'taxonID': '236953', 'catalogNumber': 'MEM 667', 'recordedBy': 'Smith/MacGown', 'institutionCode': 'MISSA', 'rights': 'http://creativecommons.org/publicdomain/zero/1.0/', 'startDayOfYear': '79', 'samplingProtocol': 'malaise', 'identifiedBy': 'Smith, B.A.', 'collectionID': '681c0543-167b-4f2a-94d3-61e9d3183ad3', 'georeferenceSources': 'georef batch tool 2020-03-27; GeoLocate'}, {'key': 658277777, 'datasetKey': 'aae308f4-9f9c-4cdd-b4ef-c026f48be551', 'publishingOrgKey': 'b554c320-0560-11d8-b851-b8a03c50a862', 'installationKey': 'c7b49e46-602a-4172-98d2-6b027c6b049f', 'publishingCountry': 'US', 'protocol': 'DWC_ARCHIVE', 'lastCrawled': '2021-02-11T22:47:05.923+00:00', 'lastParsed': '2021-02-11T23:03:57.224+00:00', 'crawlId': 235, 'hostingOrganizationKey': 'b554c320-0560-11d8-b851-b8a03c50a862', 'extensions': {}, 'basisOfRecord': 'PRESERVED_SPECIMEN', 'occurrenceStatus': 'PRESENT', 'sex': 'FEMALE', 'lifeStage': 'Adult', 'taxonKey': 1340278, 'kingdomKey': 1, 'phylumKey': 54, 'classKey': 216, 'orderKey': 1457, 'familyKey': 4334, 'genusKey': 1340278, 'acceptedTaxonKey': 1340278, 'scientificName': 'Bombus Latreille, 1802', 'acceptedScientificName': 'Bombus Latreille, 1802', 'kingdom': 'Animalia', 'phylum': 'Arthropoda', 'order': 'Hymenoptera', 'family': 'Apidae', 'genus': 'Bombus', 'genericName': 'Bombus', 'taxonRank': 'GENUS', 'taxonomicStatus': 'ACCEPTED', 'dateIdentified': '2005-01-01T00:00:00', 'decimalLongitude': -99.29222, 'decimalLatitude': 37.41, 'continent': 'NORTH_AMERICA', 'stateProvince': 'Kansas', 'year': 2000, 'month': 4, 'day': 13, 'eventDate': '2000-04-13T00:00:00', 'issues': ['GEODETIC_DATUM_ASSUMED_WGS84', 'COLLECTION_MATCH_FUZZY'], 'lastInterpreted': '2021-02-11T23:03:57.224+00:00', 'license': 'http://creativecommons.org/licenses/by/4.0/legalcode', 'identifiers': [], 'media': [], 'facts': [], 'relations': [], 'gadm': {'level0': {'gid': 'USA', 'name': 'United States'}, 'level1': {'gid': 'USA.17_1', 'name': 'Kansas'}, 'level2': {'gid': 'USA.17.49_1', 'name': 'Kiowa'}}, 'institutionKey': '49fb6451-91b7-4af2-8cd3-354539a77589', 'collectionKey': '992b8c97-c6ae-4bda-b58b-1762cd1105d5', 'isInCluster': False, 'geodeticDatum': 'WGS84', 'class': 'Insecta', 'countryCode': 'US', 'recordedByIDs': [], 'identifiedByIDs': [], 'country': 'United States of America', 'identifier': '3c99961c-1ed6-11e3-bfac-90b11c41863e', 'institutionID': 'http://grbio.org/cool/iakn-125z', 'higherGeography': 'United States, Kansas, Kiowa', 'county': 'Kiowa', 'locality': 'Greensburg, 13 mi S', 'datasetName': 'Snow Entomological Museum Collection', 'gbifID': '658277777', 'collectionCode': 'SEMC', 'occurrenceID': '3c99961c-1ed6-11e3-bfac-90b11c41863e', 'preparations': 'Pinned - 1', 'catalogNumber': '637653', 'recordedBy': 'Salsbury, Glenn', 'institutionCode': 'KU', 'accessRights': 'http://biodiversity.ku.edu/research/university-kansas-biodiversity-institute-data-publication-and-use-norms', 'identifiedBy': 'Michener, Charles'}, {'key': 767141723, 'datasetKey': '8c04889e-a0ad-4f39-8623-06aa9cf0131d', 'publishingOrgKey': '1e26a630-7203-11dc-a0d8-b8a03c50a862', 'installationKey': '394c0f8e-8b5e-4fbc-b942-568a4a267032', 'publishingCountry': 'US', 'protocol': 'DWC_ARCHIVE', 'lastCrawled': '2020-12-10T15:22:27.880+00:00', 'lastParsed': '2020-12-15T21:13:00.427+00:00', 'crawlId': 131, 'hostingOrganizationKey': 'c3ad790a-d426-4ac1-8e32-da61f81f0117', 'extensions': {}, 'basisOfRecord': 'PRESERVED_SPECIMEN', 'occurrenceStatus': 'PRESENT', 'taxonKey': 1340446, 'kingdomKey': 1, 'phylumKey': 54, 'classKey': 216, 'orderKey': 1457, 'familyKey': 4334, 'genusKey': 1340278, 'speciesKey': 1340446, 'acceptedTaxonKey': 1340446, 'scientificName': 'Bombus auricomus (Robertson, 1903)', 'acceptedScientificName': 'Bombus auricomus (Robertson, 1903)', 'kingdom': 'Animalia', 'phylum': 'Arthropoda', 'order': 'Hymenoptera', 'family': 'Apidae', 'genus': 'Bombus', 'species': 'Bombus auricomus', 'genericName': 'Bombus', 'specificEpithet': 'auricomus', 'taxonRank': 'SPECIES', 'taxonomicStatus': 'ACCEPTED', 'decimalLongitude': -90.3449, 'decimalLatitude': 38.6172, 'stateProvince': 'Missouri', 'year': 2000, 'month': 4, 'day': 17, 'eventDate': '2000-04-17T00:00:00', 'issues': ['GEODETIC_DATUM_ASSUMED_WGS84', 'INSTITUTION_MATCH_NONE', 'COLLECTION_MATCH_NONE'], 'lastInterpreted': '2020-12-15T21:13:00.427+00:00', 'license': 'http://creativecommons.org/licenses/by/4.0/legalcode', 'identifiers': [], 'media': [], 'facts': [], 'relations': [], 'gadm': {'level0': {'gid': 'USA', 'name': 'United States'}, 'level1': {'gid': 'USA.26_1', 'name': 'Missouri'}, 'level2': {'gid': 'USA.26.95_1', 'name': 'Saint Louis'}}, 'isInCluster': False, 'geodeticDatum': 'WGS84', 'class': 'Insecta', 'countryCode': 'US', 'recordedByIDs': [], 'identifiedByIDs': [], 'country': 'United States of America', 'catalogNumber': 'BOMBUS38612', 'institutionCode': 'USDA-ARS', 'locality': 'Litzsinger Road Ecol. Ctr', 'county': 'St.Louis', 'gbifID': '767141723', 'collectionCode': 'BBSL', 'occurrenceID': '767141723'}, {'key': 767141872, 'datasetKey': '8c04889e-a0ad-4f39-8623-06aa9cf0131d', 'publishingOrgKey': '1e26a630-7203-11dc-a0d8-b8a03c50a862', 'installationKey': '394c0f8e-8b5e-4fbc-b942-568a4a267032', 'publishingCountry': 'US', 'protocol': 'DWC_ARCHIVE', 'lastCrawled': '2020-12-10T15:22:27.880+00:00', 'lastParsed': '2020-12-15T21:13:00.503+00:00', 'crawlId': 131, 'hostingOrganizationKey': 'c3ad790a-d426-4ac1-8e32-da61f81f0117', 'extensions': {}, 'basisOfRecord': 'PRESERVED_SPECIMEN', 'occurrenceStatus': 'PRESENT', 'taxonKey': 1340382, 'kingdomKey': 1, 'phylumKey': 54, 'classKey': 216, 'orderKey': 1457, 'familyKey': 4334, 'genusKey': 1340278, 'speciesKey': 1340382, 'acceptedTaxonKey': 1340382, 'scientificName': 'Bombus bimaculatus Cresson, 1863', 'acceptedScientificName': 'Bombus bimaculatus Cresson, 1863', 'kingdom': 'Animalia', 'phylum': 'Arthropoda', 'order': 'Hymenoptera', 'family': 'Apidae', 'genus': 'Bombus', 'species': 'Bombus bimaculatus', 'genericName': 'Bombus', 'specificEpithet': 'bimaculatus', 'taxonRank': 'SPECIES', 'taxonomicStatus': 'ACCEPTED', 'decimalLongitude': -90.3449, 'decimalLatitude': 38.6172, 'stateProvince': 'Missouri', 'year': 2000, 'month': 4, 'day': 17, 'eventDate': '2000-04-17T00:00:00', 'issues': ['GEODETIC_DATUM_ASSUMED_WGS84', 'INSTITUTION_MATCH_NONE', 'COLLECTION_MATCH_NONE'], 'lastInterpreted': '2020-12-15T21:13:00.503+00:00', 'license': 'http://creativecommons.org/licenses/by/4.0/legalcode', 'identifiers': [], 'media': [], 'facts': [], 'relations': [], 'gadm': {'level0': {'gid': 'USA', 'name': 'United States'}, 'level1': {'gid': 'USA.26_1', 'name': 'Missouri'}, 'level2': {'gid': 'USA.26.95_1', 'name': 'Saint Louis'}}, 'isInCluster': False, 'geodeticDatum': 'WGS84', 'class': 'Insecta', 'countryCode': 'US', 'recordedByIDs': [], 'identifiedByIDs': [], 'country': 'United States of America', 'catalogNumber': 'BOMBUS38760', 'institutionCode': 'USDA-ARS', 'locality': 'Litzsinger Road Ecol. Ctr', 'county': 'St.Louis', 'gbifID': '767141872', 'collectionCode': 'BBSL', 'occurrenceID': '767141872'}, {'key': 767142222, 'datasetKey': '8c04889e-a0ad-4f39-8623-06aa9cf0131d', 'publishingOrgKey': '1e26a630-7203-11dc-a0d8-b8a03c50a862', 'installationKey': '394c0f8e-8b5e-4fbc-b942-568a4a267032', 'publishingCountry': 'US', 'protocol': 'DWC_ARCHIVE', 'lastCrawled': '2020-12-10T15:22:27.880+00:00', 'lastParsed': '2020-12-15T21:13:02.774+00:00', 'crawlId': 131, 'hostingOrganizationKey': 'c3ad790a-d426-4ac1-8e32-da61f81f0117', 'extensions': {}, 'basisOfRecord': 'PRESERVED_SPECIMEN', 'occurrenceStatus': 'PRESENT', 'taxonKey': 1340409, 'kingdomKey': 1, 'phylumKey': 54, 'classKey': 216, 'orderKey': 1457, 'familyKey': 4334, 'genusKey': 1340278, 'speciesKey': 1340409, 'acceptedTaxonKey': 1340409, 'scientificName': 'Bombus griseocollis (DeGeer, 1773)', 'acceptedScientificName': 'Bombus griseocollis (DeGeer, 1773)', 'kingdom': 'Animalia', 'phylum': 'Arthropoda', 'order': 'Hymenoptera', 'family': 'Apidae', 'genus': 'Bombus', 'species': 'Bombus griseocollis', 'genericName': 'Bombus', 'specificEpithet': 'griseocollis', 'taxonRank': 'SPECIES', 'taxonomicStatus': 'ACCEPTED', 'decimalLongitude': -90.3449, 'decimalLatitude': 38.6172, 'stateProvince': 'Missouri', 'year': 2000, 'month': 4, 'day': 17, 'eventDate': '2000-04-17T00:00:00', 'issues': ['GEODETIC_DATUM_ASSUMED_WGS84', 'INSTITUTION_MATCH_NONE', 'COLLECTION_MATCH_NONE'], 'lastInterpreted': '2020-12-15T21:13:02.774+00:00', 'license': 'http://creativecommons.org/licenses/by/4.0/legalcode', 'identifiers': [], 'media': [], 'facts': [], 'relations': [], 'gadm': {'level0': {'gid': 'USA', 'name': 'United States'}, 'level1': {'gid': 'USA.26_1', 'name': 'Missouri'}, 'level2': {'gid': 'USA.26.95_1', 'name': 'Saint Louis'}}, 'isInCluster': False, 'geodeticDatum': 'WGS84', 'class': 'Insecta', 'countryCode': 'US', 'recordedByIDs': [], 'identifiedByIDs': [], 'country': 'United States of America', 'catalogNumber': 'BOMBUS39104', 'institutionCode': 'USDA-ARS', 'locality': 'Litzsinger Road Ecol. Ctr', 'county': 'St.Louis', 'gbifID': '767142222', 'collectionCode': 'BBSL', 'occurrenceID': '767142222'}, {'key': 767142223, 'datasetKey': '8c04889e-a0ad-4f39-8623-06aa9cf0131d', 'publishingOrgKey': '1e26a630-7203-11dc-a0d8-b8a03c50a862', 'installationKey': '394c0f8e-8b5e-4fbc-b942-568a4a267032', 'publishingCountry': 'US', 'protocol': 'DWC_ARCHIVE', 'lastCrawled': '2020-12-10T15:22:27.880+00:00', 'lastParsed': '2020-12-15T21:13:02.775+00:00', 'crawlId': 131, 'hostingOrganizationKey': 'c3ad790a-d426-4ac1-8e32-da61f81f0117', 'extensions': {}, 'basisOfRecord': 'PRESERVED_SPECIMEN', 'occurrenceStatus': 'PRESENT', 'taxonKey': 1340409, 'kingdomKey': 1, 'phylumKey': 54, 'classKey': 216, 'orderKey': 1457, 'familyKey': 4334, 'genusKey': 1340278, 'speciesKey': 1340409, 'acceptedTaxonKey': 1340409, 'scientificName': 'Bombus griseocollis (DeGeer, 1773)', 'acceptedScientificName': 'Bombus griseocollis (DeGeer, 1773)', 'kingdom': 'Animalia', 'phylum': 'Arthropoda', 'order': 'Hymenoptera', 'family': 'Apidae', 'genus': 'Bombus', 'species': 'Bombus griseocollis', 'genericName': 'Bombus', 'specificEpithet': 'griseocollis', 'taxonRank': 'SPECIES', 'taxonomicStatus': 'ACCEPTED', 'decimalLongitude': -90.3449, 'decimalLatitude': 38.6172, 'stateProvince': 'Missouri', 'year': 2000, 'month': 4, 'day': 17, 'eventDate': '2000-04-17T00:00:00', 'issues': ['GEODETIC_DATUM_ASSUMED_WGS84', 'INSTITUTION_MATCH_NONE', 'COLLECTION_MATCH_NONE'], 'lastInterpreted': '2020-12-15T21:13:02.775+00:00', 'license': 'http://creativecommons.org/licenses/by/4.0/legalcode', 'identifiers': [], 'media': [], 'facts': [], 'relations': [], 'gadm': {'level0': {'gid': 'USA', 'name': 'United States'}, 'level1': {'gid': 'USA.26_1', 'name': 'Missouri'}, 'level2': {'gid': 'USA.26.95_1', 'name': 'Saint Louis'}}, 'isInCluster': False, 'geodeticDatum': 'WGS84', 'class': 'Insecta', 'countryCode': 'US', 'recordedByIDs': [], 'identifiedByIDs': [], 'country': 'United States of America', 'catalogNumber': 'BOMBUS39105', 'institutionCode': 'USDA-ARS', 'locality': 'Litzsinger Road Ecol. Ctr', 'county': 'St.Louis', 'gbifID': '767142223', 'collectionCode': 'BBSL', 'occurrenceID': '767142223'}, {'key': 767142224, 'datasetKey': '8c04889e-a0ad-4f39-8623-06aa9cf0131d', 'publishingOrgKey': '1e26a630-7203-11dc-a0d8-b8a03c50a862', 'installationKey': '394c0f8e-8b5e-4fbc-b942-568a4a267032', 'publishingCountry': 'US', 'protocol': 'DWC_ARCHIVE', 'lastCrawled': '2020-12-10T15:22:27.880+00:00', 'lastParsed': '2020-12-15T21:13:02.775+00:00', 'crawlId': 131, 'hostingOrganizationKey': 'c3ad790a-d426-4ac1-8e32-da61f81f0117', 'extensions': {}, 'basisOfRecord': 'PRESERVED_SPECIMEN', 'occurrenceStatus': 'PRESENT', 'taxonKey': 1340409, 'kingdomKey': 1, 'phylumKey': 54, 'classKey': 216, 'orderKey': 1457, 'familyKey': 4334, 'genusKey': 1340278, 'speciesKey': 1340409, 'acceptedTaxonKey': 1340409, 'scientificName': 'Bombus griseocollis (DeGeer, 1773)', 'acceptedScientificName': 'Bombus griseocollis (DeGeer, 1773)', 'kingdom': 'Animalia', 'phylum': 'Arthropoda', 'order': 'Hymenoptera', 'family': 'Apidae', 'genus': 'Bombus', 'species': 'Bombus griseocollis', 'genericName': 'Bombus', 'specificEpithet': 'griseocollis', 'taxonRank': 'SPECIES', 'taxonomicStatus': 'ACCEPTED', 'decimalLongitude': -90.3449, 'decimalLatitude': 38.6172, 'stateProvince': 'Missouri', 'year': 2000, 'month': 4, 'day': 14, 'eventDate': '2000-04-14T00:00:00', 'issues': ['GEODETIC_DATUM_ASSUMED_WGS84', 'INSTITUTION_MATCH_NONE', 'COLLECTION_MATCH_NONE'], 'lastInterpreted': '2020-12-15T21:13:02.775+00:00', 'license': 'http://creativecommons.org/licenses/by/4.0/legalcode', 'identifiers': [], 'media': [], 'facts': [], 'relations': [], 'gadm': {'level0': {'gid': 'USA', 'name': 'United States'}, 'level1': {'gid': 'USA.26_1', 'name': 'Missouri'}, 'level2': {'gid': 'USA.26.95_1', 'name': 'Saint Louis'}}, 'isInCluster': False, 'geodeticDatum': 'WGS84', 'class': 'Insecta', 'countryCode': 'US', 'recordedByIDs': [], 'identifiedByIDs': [], 'country': 'United States of America', 'catalogNumber': 'BOMBUS39106', 'institutionCode': 'USDA-ARS', 'locality': 'Litzsinger Road Ecol. Ctr', 'county': 'St.Louis', 'gbifID': '767142224', 'collectionCode': 'BBSL', 'occurrenceID': '767142224'}, {'key': 767142225, 'datasetKey': '8c04889e-a0ad-4f39-8623-06aa9cf0131d', 'publishingOrgKey': '1e26a630-7203-11dc-a0d8-b8a03c50a862', 'installationKey': '394c0f8e-8b5e-4fbc-b942-568a4a267032', 'publishingCountry': 'US', 'protocol': 'DWC_ARCHIVE', 'lastCrawled': '2020-12-10T15:22:27.880+00:00', 'lastParsed': '2020-12-15T21:13:02.776+00:00', 'crawlId': 131, 'hostingOrganizationKey': 'c3ad790a-d426-4ac1-8e32-da61f81f0117', 'extensions': {}, 'basisOfRecord': 'PRESERVED_SPECIMEN', 'occurrenceStatus': 'PRESENT', 'taxonKey': 1340409, 'kingdomKey': 1, 'phylumKey': 54, 'classKey': 216, 'orderKey': 1457, 'familyKey': 4334, 'genusKey': 1340278, 'speciesKey': 1340409, 'acceptedTaxonKey': 1340409, 'scientificName': 'Bombus griseocollis (DeGeer, 1773)', 'acceptedScientificName': 'Bombus griseocollis (DeGeer, 1773)', 'kingdom': 'Animalia', 'phylum': 'Arthropoda', 'order': 'Hymenoptera', 'family': 'Apidae', 'genus': 'Bombus', 'species': 'Bombus griseocollis', 'genericName': 'Bombus', 'specificEpithet': 'griseocollis', 'taxonRank': 'SPECIES', 'taxonomicStatus': 'ACCEPTED', 'decimalLongitude': -90.3449, 'decimalLatitude': 38.6172, 'stateProvince': 'Missouri', 'year': 2000, 'month': 4, 'day': 14, 'eventDate': '2000-04-14T00:00:00', 'issues': ['GEODETIC_DATUM_ASSUMED_WGS84', 'INSTITUTION_MATCH_NONE', 'COLLECTION_MATCH_NONE'], 'lastInterpreted': '2020-12-15T21:13:02.776+00:00', 'license': 'http://creativecommons.org/licenses/by/4.0/legalcode', 'identifiers': [], 'media': [], 'facts': [], 'relations': [], 'gadm': {'level0': {'gid': 'USA', 'name': 'United States'}, 'level1': {'gid': 'USA.26_1', 'name': 'Missouri'}, 'level2': {'gid': 'USA.26.95_1', 'name': 'Saint Louis'}}, 'isInCluster': False, 'geodeticDatum': 'WGS84', 'class': 'Insecta', 'countryCode': 'US', 'recordedByIDs': [], 'identifiedByIDs': [], 'country': 'United States of America', 'catalogNumber': 'BOMBUS39107', 'institutionCode': 'USDA-ARS', 'locality': 'Litzsinger Road Ecol. Ctr', 'county': 'St.Louis', 'gbifID': '767142225', 'collectionCode': 'BBSL', 'occurrenceID': '767142225'}, {'key': 767142229, 'datasetKey': '8c04889e-a0ad-4f39-8623-06aa9cf0131d', 'publishingOrgKey': '1e26a630-7203-11dc-a0d8-b8a03c50a862', 'installationKey': '394c0f8e-8b5e-4fbc-b942-568a4a267032', 'publishingCountry': 'US', 'protocol': 'DWC_ARCHIVE', 'lastCrawled': '2020-12-10T15:22:27.880+00:00', 'lastParsed': '2020-12-15T21:13:02.778+00:00', 'crawlId': 131, 'hostingOrganizationKey': 'c3ad790a-d426-4ac1-8e32-da61f81f0117', 'extensions': {}, 'basisOfRecord': 'PRESERVED_SPECIMEN', 'occurrenceStatus': 'PRESENT', 'taxonKey': 1340409, 'kingdomKey': 1, 'phylumKey': 54, 'classKey': 216, 'orderKey': 1457, 'familyKey': 4334, 'genusKey': 1340278, 'speciesKey': 1340409, 'acceptedTaxonKey': 1340409, 'scientificName': 'Bombus griseocollis (DeGeer, 1773)', 'acceptedScientificName': 'Bombus griseocollis (DeGeer, 1773)', 'kingdom': 'Animalia', 'phylum': 'Arthropoda', 'order': 'Hymenoptera', 'family': 'Apidae', 'genus': 'Bombus', 'species': 'Bombus griseocollis', 'genericName': 'Bombus', 'specificEpithet': 'griseocollis', 'taxonRank': 'SPECIES', 'taxonomicStatus': 'ACCEPTED', 'decimalLongitude': -90.3449, 'decimalLatitude': 38.6172, 'stateProvince': 'Missouri', 'year': 2000, 'month': 4, 'day': 14, 'eventDate': '2000-04-14T00:00:00', 'issues': ['GEODETIC_DATUM_ASSUMED_WGS84', 'INSTITUTION_MATCH_NONE', 'COLLECTION_MATCH_NONE'], 'lastInterpreted': '2020-12-15T21:13:02.778+00:00', 'license': 'http://creativecommons.org/licenses/by/4.0/legalcode', 'identifiers': [], 'media': [], 'facts': [], 'relations': [], 'gadm': {'level0': {'gid': 'USA', 'name': 'United States'}, 'level1': {'gid': 'USA.26_1', 'name': 'Missouri'}, 'level2': {'gid': 'USA.26.95_1', 'name': 'Saint Louis'}}, 'isInCluster': False, 'geodeticDatum': 'WGS84', 'class': 'Insecta', 'countryCode': 'US', 'recordedByIDs': [], 'identifiedByIDs': [], 'country': 'United States of America', 'catalogNumber': 'BOMBUS39111', 'institutionCode': 'USDA-ARS', 'locality': 'Litzsinger Road Ecol. Ctr', 'county': 'St.Louis', 'gbifID': '767142229', 'collectionCode': 'BBSL', 'occurrenceID': '767142229'}, {'key': 767142230, 'datasetKey': '8c04889e-a0ad-4f39-8623-06aa9cf0131d', 'publishingOrgKey': '1e26a630-7203-11dc-a0d8-b8a03c50a862', 'installationKey': '394c0f8e-8b5e-4fbc-b942-568a4a267032', 'publishingCountry': 'US', 'protocol': 'DWC_ARCHIVE', 'lastCrawled': '2020-12-10T15:22:27.880+00:00', 'lastParsed': '2020-12-15T21:13:02.774+00:00', 'crawlId': 131, 'hostingOrganizationKey': 'c3ad790a-d426-4ac1-8e32-da61f81f0117', 'extensions': {}, 'basisOfRecord': 'PRESERVED_SPECIMEN', 'occurrenceStatus': 'PRESENT', 'taxonKey': 1340409, 'kingdomKey': 1, 'phylumKey': 54, 'classKey': 216, 'orderKey': 1457, 'familyKey': 4334, 'genusKey': 1340278, 'speciesKey': 1340409, 'acceptedTaxonKey': 1340409, 'scientificName': 'Bombus griseocollis (DeGeer, 1773)', 'acceptedScientificName': 'Bombus griseocollis (DeGeer, 1773)', 'kingdom': 'Animalia', 'phylum': 'Arthropoda', 'order': 'Hymenoptera', 'family': 'Apidae', 'genus': 'Bombus', 'species': 'Bombus griseocollis', 'genericName': 'Bombus', 'specificEpithet': 'griseocollis', 'taxonRank': 'SPECIES', 'taxonomicStatus': 'ACCEPTED', 'decimalLongitude': -90.3449, 'decimalLatitude': 38.6172, 'stateProvince': 'Missouri', 'year': 2000, 'month': 4, 'day': 14, 'eventDate': '2000-04-14T00:00:00', 'issues': ['GEODETIC_DATUM_ASSUMED_WGS84', 'INSTITUTION_MATCH_NONE', 'COLLECTION_MATCH_NONE'], 'lastInterpreted': '2020-12-15T21:13:02.774+00:00', 'license': 'http://creativecommons.org/licenses/by/4.0/legalcode', 'identifiers': [], 'media': [], 'facts': [], 'relations': [], 'gadm': {'level0': {'gid': 'USA', 'name': 'United States'}, 'level1': {'gid': 'USA.26_1', 'name': 'Missouri'}, 'level2': {'gid': 'USA.26.95_1', 'name': 'Saint Louis'}}, 'isInCluster': False, 'geodeticDatum': 'WGS84', 'class': 'Insecta', 'countryCode': 'US', 'recordedByIDs': [], 'identifiedByIDs': [], 'country': 'United States of America', 'catalogNumber': 'BOMBUS39112', 'institutionCode': 'USDA-ARS', 'locality': 'Litzsinger Road Ecol. Ctr', 'county': 'St.Louis', 'gbifID': '767142230', 'collectionCode': 'BBSL', 'occurrenceID': '767142230'}, {'key': 767142231, 'datasetKey': '8c04889e-a0ad-4f39-8623-06aa9cf0131d', 'publishingOrgKey': '1e26a630-7203-11dc-a0d8-b8a03c50a862', 'installationKey': '394c0f8e-8b5e-4fbc-b942-568a4a267032', 'publishingCountry': 'US', 'protocol': 'DWC_ARCHIVE', 'lastCrawled': '2020-12-10T15:22:27.880+00:00', 'lastParsed': '2020-12-15T21:13:02.772+00:00', 'crawlId': 131, 'hostingOrganizationKey': 'c3ad790a-d426-4ac1-8e32-da61f81f0117', 'extensions': {}, 'basisOfRecord': 'PRESERVED_SPECIMEN', 'occurrenceStatus': 'PRESENT', 'taxonKey': 1340409, 'kingdomKey': 1, 'phylumKey': 54, 'classKey': 216, 'orderKey': 1457, 'familyKey': 4334, 'genusKey': 1340278, 'speciesKey': 1340409, 'acceptedTaxonKey': 1340409, 'scientificName': 'Bombus griseocollis (DeGeer, 1773)', 'acceptedScientificName': 'Bombus griseocollis (DeGeer, 1773)', 'kingdom': 'Animalia', 'phylum': 'Arthropoda', 'order': 'Hymenoptera', 'family': 'Apidae', 'genus': 'Bombus', 'species': 'Bombus griseocollis', 'genericName': 'Bombus', 'specificEpithet': 'griseocollis', 'taxonRank': 'SPECIES', 'taxonomicStatus': 'ACCEPTED', 'decimalLongitude': -90.3449, 'decimalLatitude': 38.6172, 'stateProvince': 'Missouri', 'year': 2000, 'month': 4, 'day': 14, 'eventDate': '2000-04-14T00:00:00', 'issues': ['GEODETIC_DATUM_ASSUMED_WGS84', 'INSTITUTION_MATCH_NONE', 'COLLECTION_MATCH_NONE'], 'lastInterpreted': '2020-12-15T21:13:02.772+00:00', 'license': 'http://creativecommons.org/licenses/by/4.0/legalcode', 'identifiers': [], 'media': [], 'facts': [], 'relations': [], 'gadm': {'level0': {'gid': 'USA', 'name': 'United States'}, 'level1': {'gid': 'USA.26_1', 'name': 'Missouri'}, 'level2': {'gid': 'USA.26.95_1', 'name': 'Saint Louis'}}, 'isInCluster': False, 'geodeticDatum': 'WGS84', 'class': 'Insecta', 'countryCode': 'US', 'recordedByIDs': [], 'identifiedByIDs': [], 'country': 'United States of America', 'catalogNumber': 'BOMBUS39113', 'institutionCode': 'USDA-ARS', 'locality': 'Litzsinger Road Ecol. Ctr', 'county': 'St.Louis', 'gbifID': '767142231', 'collectionCode': 'BBSL', 'occurrenceID': '767142231'}, {'key': 1292026603, 'datasetKey': '8a6232d7-f93e-45a3-8b16-556aa732cd39', 'publishingOrgKey': '1d90b4aa-32c7-4b8f-94bd-7080eb187086', 'installationKey': '2c733a9d-363d-4d66-9aef-3e0f7bc44bec', 'publishingCountry': 'US', 'protocol': 'DWC_ARCHIVE', 'lastCrawled': '2021-02-05T23:39:07.992+00:00', 'lastParsed': '2021-02-05T23:40:12.142+00:00', 'crawlId': 192, 'hostingOrganizationKey': 'a86e9e36-12ec-49a4-a94c-c0c981fffb71', 'extensions': {}, 'basisOfRecord': 'PRESERVED_SPECIMEN', 'occurrenceStatus': 'PRESENT', 'taxonKey': 1340475, 'kingdomKey': 1, 'phylumKey': 54, 'classKey': 216, 'orderKey': 1457, 'familyKey': 4334, 'genusKey': 1340278, 'speciesKey': 1340475, 'acceptedTaxonKey': 1340475, 'scientificName': 'Bombus morrisoni Cresson, 1878', 'acceptedScientificName': 'Bombus morrisoni Cresson, 1878', 'kingdom': 'Animalia', 'phylum': 'Arthropoda', 'order': 'Hymenoptera', 'family': 'Apidae', 'genus': 'Bombus', 'species': 'Bombus morrisoni', 'genericName': 'Bombus', 'specificEpithet': 'morrisoni', 'taxonRank': 'SPECIES', 'taxonomicStatus': 'ACCEPTED', 'decimalLongitude': -109.773611, 'decimalLatitude': 38.060833, 'stateProvince': 'Utah', 'year': 2000, 'month': 4, 'day': 22, 'eventDate': '2000-04-22T00:00:00', 'issues': ['GEODETIC_DATUM_ASSUMED_WGS84', 'COLLECTION_MATCH_NONE', 'INSTITUTION_MATCH_FUZZY'], 'modified': '2015-11-19T08:52:45.000+00:00', 'lastInterpreted': '2021-02-05T23:40:12.142+00:00', 'references': 'https://scan-bugs.org:443/portal/collections/individual/index.php?occid=1114507', 'license': 'http://creativecommons.org/publicdomain/zero/1.0/legalcode', 'identifiers': [], 'media': [], 'facts': [], 'relations': [], 'gadm': {'level0': {'gid': 'USA', 'name': 'United States'}, 'level1': {'gid': 'USA.45_1', 'name': 'Utah'}, 'level2': {'gid': 'USA.45.19_1', 'name': 'San Juan'}}, 'institutionKey': '3c0aaa4a-b783-4a3f-9f11-9d9e4a2b6ae5', 'isInCluster': False, 'geodeticDatum': 'WGS84', 'class': 'Insecta', 'countryCode': 'US', 'recordedByIDs': [], 'identifiedByIDs': [], 'country': 'United States of America', 'identifier': '1114507', 'verbatimEventDate': '2000-4-22', 'endDayOfYear': '113', 'http://unknown.org/recordId': 'urn:uuid:6b2c2b34-9b7d-4fa4-b85b-2ba181752525', 'county': 'San Juan', 'locality': 'Salt Creek, no road 1', 'gbifID': '1292026603', 'collectionCode': 'CANY', 'occurrenceID': '6b2c2b34-9b7d-4fa4-b85b-2ba181752525', 'taxonID': '236934', 'catalogNumber': 'CANY 47866', 'recordedBy': 'Graham, Tim', 'institutionCode': 'NAUF', 'rights': 'http://creativecommons.org/publicdomain/zero/1.0/', 'startDayOfYear': '113', 'http://unknown.org/recordEnteredBy': 'Evelyn Cheng', 'identifiedBy': 'W. Williams', 'collectionID': 'c87a0756-fdd7-4cb6-9921-ca5774f8330e'}, {'key': 1292026657, 'datasetKey': '8a6232d7-f93e-45a3-8b16-556aa732cd39', 'publishingOrgKey': '1d90b4aa-32c7-4b8f-94bd-7080eb187086', 'installationKey': '2c733a9d-363d-4d66-9aef-3e0f7bc44bec', 'publishingCountry': 'US', 'protocol': 'DWC_ARCHIVE', 'lastCrawled': '2021-02-05T23:39:07.992+00:00', 'lastParsed': '2021-02-05T23:40:12.150+00:00', 'crawlId': 192, 'hostingOrganizationKey': 'a86e9e36-12ec-49a4-a94c-c0c981fffb71', 'extensions': {}, 'basisOfRecord': 'PRESERVED_SPECIMEN', 'occurrenceStatus': 'PRESENT', 'taxonKey': 1340475, 'kingdomKey': 1, 'phylumKey': 54, 'classKey': 216, 'orderKey': 1457, 'familyKey': 4334, 'genusKey': 1340278, 'speciesKey': 1340475, 'acceptedTaxonKey': 1340475, 'scientificName': 'Bombus morrisoni Cresson, 1878', 'acceptedScientificName': 'Bombus morrisoni Cresson, 1878', 'kingdom': 'Animalia', 'phylum': 'Arthropoda', 'order': 'Hymenoptera', 'family': 'Apidae', 'genus': 'Bombus', 'species': 'Bombus morrisoni', 'genericName': 'Bombus', 'specificEpithet': 'morrisoni', 'taxonRank': 'SPECIES', 'taxonomicStatus': 'ACCEPTED', 'decimalLongitude': -109.749444, 'decimalLatitude': 38.119166, 'stateProvince': 'Utah', 'year': 2000, 'month': 4, 'day': 24, 'eventDate': '2000-04-24T00:00:00', 'issues': ['GEODETIC_DATUM_ASSUMED_WGS84', 'COLLECTION_MATCH_NONE', 'INSTITUTION_MATCH_FUZZY'], 'modified': '2015-11-19T08:52:45.000+00:00', 'lastInterpreted': '2021-02-05T23:40:12.150+00:00', 'references': 'https://scan-bugs.org:443/portal/collections/individual/index.php?occid=1114510', 'license': 'http://creativecommons.org/publicdomain/zero/1.0/legalcode', 'identifiers': [], 'media': [], 'facts': [], 'relations': [], 'gadm': {'level0': {'gid': 'USA', 'name': 'United States'}, 'level1': {'gid': 'USA.45_1', 'name': 'Utah'}, 'level2': {'gid': 'USA.45.19_1', 'name': 'San Juan'}}, 'institutionKey': '3c0aaa4a-b783-4a3f-9f11-9d9e4a2b6ae5', 'isInCluster': False, 'geodeticDatum': 'WGS84', 'class': 'Insecta', 'countryCode': 'US', 'recordedByIDs': [], 'identifiedByIDs': [], 'country': 'United States of America', 'identifier': '1114510', 'verbatimEventDate': '2000-4-24', 'endDayOfYear': '115', 'http://unknown.org/recordId': 'urn:uuid:ee3cdade-75fa-457d-b59f-7a22501aee95', 'county': 'San Juan', 'locality': 'Salt Creek, open road 3', 'gbifID': '1292026657', 'collectionCode': 'CANY', 'occurrenceID': 'ee3cdade-75fa-457d-b59f-7a22501aee95', 'taxonID': '236934', 'catalogNumber': 'CANY 47869', 'recordedBy': 'Ruehmann, M', 'institutionCode': 'NAUF', 'rights': 'http://creativecommons.org/publicdomain/zero/1.0/', 'startDayOfYear': '115', 'http://unknown.org/recordEnteredBy': 'Evelyn Cheng', 'identifiedBy': 'W. Williams', 'collectionID': 'c87a0756-fdd7-4cb6-9921-ca5774f8330e'}, {'key': 1292026660, 'datasetKey': '8a6232d7-f93e-45a3-8b16-556aa732cd39', 'publishingOrgKey': '1d90b4aa-32c7-4b8f-94bd-7080eb187086', 'installationKey': '2c733a9d-363d-4d66-9aef-3e0f7bc44bec', 'publishingCountry': 'US', 'protocol': 'DWC_ARCHIVE', 'lastCrawled': '2021-02-05T23:39:07.992+00:00', 'lastParsed': '2021-02-05T23:40:12.143+00:00', 'crawlId': 192, 'hostingOrganizationKey': 'a86e9e36-12ec-49a4-a94c-c0c981fffb71', 'extensions': {}, 'basisOfRecord': 'PRESERVED_SPECIMEN', 'occurrenceStatus': 'PRESENT', 'taxonKey': 1340475, 'kingdomKey': 1, 'phylumKey': 54, 'classKey': 216, 'orderKey': 1457, 'familyKey': 4334, 'genusKey': 1340278, 'speciesKey': 1340475, 'acceptedTaxonKey': 1340475, 'scientificName': 'Bombus morrisoni Cresson, 1878', 'acceptedScientificName': 'Bombus morrisoni Cresson, 1878', 'kingdom': 'Animalia', 'phylum': 'Arthropoda', 'order': 'Hymenoptera', 'family': 'Apidae', 'genus': 'Bombus', 'species': 'Bombus morrisoni', 'genericName': 'Bombus', 'specificEpithet': 'morrisoni', 'taxonRank': 'SPECIES', 'taxonomicStatus': 'ACCEPTED', 'decimalLongitude': -109.776111, 'decimalLatitude': 38.054444, 'stateProvince': 'Utah', 'year': 2000, 'month': 4, 'day': 23, 'eventDate': '2000-04-23T00:00:00', 'issues': ['GEODETIC_DATUM_ASSUMED_WGS84', 'COLLECTION_MATCH_NONE', 'INSTITUTION_MATCH_FUZZY'], 'modified': '2015-11-19T08:52:45.000+00:00', 'lastInterpreted': '2021-02-05T23:40:12.143+00:00', 'references': 'https://scan-bugs.org:443/portal/collections/individual/index.php?occid=1114509', 'license': 'http://creativecommons.org/publicdomain/zero/1.0/legalcode', 'identifiers': [], 'media': [], 'facts': [], 'relations': [], 'gadm': {'level0': {'gid': 'USA', 'name': 'United States'}, 'level1': {'gid': 'USA.45_1', 'name': 'Utah'}, 'level2': {'gid': 'USA.45.19_1', 'name': 'San Juan'}}, 'institutionKey': '3c0aaa4a-b783-4a3f-9f11-9d9e4a2b6ae5', 'isInCluster': False, 'geodeticDatum': 'WGS84', 'class': 'Insecta', 'countryCode': 'US', 'recordedByIDs': [], 'identifiedByIDs': [], 'country': 'United States of America', 'identifier': '1114509', 'verbatimEventDate': '2000-4-23', 'endDayOfYear': '114', 'http://unknown.org/recordId': 'urn:uuid:01548c03-62f6-485f-8997-86a3d4eacdeb', 'county': 'San Juan', 'locality': 'Salt Creek, no road 3', 'gbifID': '1292026660', 'collectionCode': 'CANY', 'occurrenceID': '01548c03-62f6-485f-8997-86a3d4eacdeb', 'taxonID': '236934', 'catalogNumber': 'CANY 47868', 'recordedBy': 'Graham, Tim', 'institutionCode': 'NAUF', 'rights': 'http://creativecommons.org/publicdomain/zero/1.0/', 'startDayOfYear': '114', 'http://unknown.org/recordEnteredBy': 'Evelyn Cheng', 'identifiedBy': 'W. Williams', 'collectionID': 'c87a0756-fdd7-4cb6-9921-ca5774f8330e'}, {'key': 1292026721, 'datasetKey': '8a6232d7-f93e-45a3-8b16-556aa732cd39', 'publishingOrgKey': '1d90b4aa-32c7-4b8f-94bd-7080eb187086', 'installationKey': '2c733a9d-363d-4d66-9aef-3e0f7bc44bec', 'publishingCountry': 'US', 'protocol': 'DWC_ARCHIVE', 'lastCrawled': '2021-02-05T23:39:07.992+00:00', 'lastParsed': '2021-02-05T23:40:12.142+00:00', 'crawlId': 192, 'hostingOrganizationKey': 'a86e9e36-12ec-49a4-a94c-c0c981fffb71', 'extensions': {}, 'basisOfRecord': 'PRESERVED_SPECIMEN', 'occurrenceStatus': 'PRESENT', 'taxonKey': 1340475, 'kingdomKey': 1, 'phylumKey': 54, 'classKey': 216, 'orderKey': 1457, 'familyKey': 4334, 'genusKey': 1340278, 'speciesKey': 1340475, 'acceptedTaxonKey': 1340475, 'scientificName': 'Bombus morrisoni Cresson, 1878', 'acceptedScientificName': 'Bombus morrisoni Cresson, 1878', 'kingdom': 'Animalia', 'phylum': 'Arthropoda', 'order': 'Hymenoptera', 'family': 'Apidae', 'genus': 'Bombus', 'species': 'Bombus morrisoni', 'genericName': 'Bombus', 'specificEpithet': 'morrisoni', 'taxonRank': 'SPECIES', 'taxonomicStatus': 'ACCEPTED', 'decimalLongitude': -109.773611, 'decimalLatitude': 38.060833, 'stateProvince': 'Utah', 'year': 2000, 'month': 4, 'day': 23, 'eventDate': '2000-04-23T00:00:00', 'issues': ['GEODETIC_DATUM_ASSUMED_WGS84', 'COLLECTION_MATCH_NONE', 'INSTITUTION_MATCH_FUZZY'], 'modified': '2015-11-19T08:52:45.000+00:00', 'lastInterpreted': '2021-02-05T23:40:12.142+00:00', 'references': 'https://scan-bugs.org:443/portal/collections/individual/index.php?occid=1114508', 'license': 'http://creativecommons.org/publicdomain/zero/1.0/legalcode', 'identifiers': [], 'media': [], 'facts': [], 'relations': [], 'gadm': {'level0': {'gid': 'USA', 'name': 'United States'}, 'level1': {'gid': 'USA.45_1', 'name': 'Utah'}, 'level2': {'gid': 'USA.45.19_1', 'name': 'San Juan'}}, 'institutionKey': '3c0aaa4a-b783-4a3f-9f11-9d9e4a2b6ae5', 'isInCluster': False, 'geodeticDatum': 'WGS84', 'class': 'Insecta', 'countryCode': 'US', 'recordedByIDs': [], 'identifiedByIDs': [], 'country': 'United States of America', 'identifier': '1114508', 'verbatimEventDate': '2000-4-23', 'endDayOfYear': '114', 'http://unknown.org/recordId': 'urn:uuid:5cd93b8a-be3e-4cac-8f16-47185baaa255', 'county': 'San Juan', 'locality': 'Salt Creek, no road 1', 'gbifID': '1292026721', 'collectionCode': 'CANY', 'occurrenceID': '5cd93b8a-be3e-4cac-8f16-47185baaa255', 'taxonID': '236934', 'catalogNumber': 'CANY 47867', 'recordedBy': 'Graham, Tim', 'institutionCode': 'NAUF', 'rights': 'http://creativecommons.org/publicdomain/zero/1.0/', 'startDayOfYear': '114', 'http://unknown.org/recordEnteredBy': 'Evelyn Cheng', 'identifiedBy': 'W. Williams', 'collectionID': 'c87a0756-fdd7-4cb6-9921-ca5774f8330e'}, {'key': 1292028765, 'datasetKey': '8a6232d7-f93e-45a3-8b16-556aa732cd39', 'publishingOrgKey': '1d90b4aa-32c7-4b8f-94bd-7080eb187086', 'installationKey': '2c733a9d-363d-4d66-9aef-3e0f7bc44bec', 'publishingCountry': 'US', 'protocol': 'DWC_ARCHIVE', 'lastCrawled': '2021-02-05T23:39:07.992+00:00', 'lastParsed': '2021-02-05T23:40:04.188+00:00', 'crawlId': 192, 'hostingOrganizationKey': 'a86e9e36-12ec-49a4-a94c-c0c981fffb71', 'extensions': {}, 'basisOfRecord': 'PRESERVED_SPECIMEN', 'occurrenceStatus': 'PRESENT', 'taxonKey': 1340278, 'kingdomKey': 1, 'phylumKey': 54, 'classKey': 216, 'orderKey': 1457, 'familyKey': 4334, 'genusKey': 1340278, 'acceptedTaxonKey': 1340278, 'scientificName': 'Bombus Latreille, 1802', 'acceptedScientificName': 'Bombus Latreille, 1802', 'kingdom': 'Animalia', 'phylum': 'Arthropoda', 'order': 'Hymenoptera', 'family': 'Apidae', 'genus': 'Bombus', 'genericName': 'Bombus', 'taxonRank': 'GENUS', 'taxonomicStatus': 'ACCEPTED', 'decimalLongitude': -110.583055, 'decimalLatitude': 38.586944, 'stateProvince': 'Utah', 'year': 2000, 'month': 4, 'day': 26, 'eventDate': '2000-04-26T00:00:00', 'issues': ['GEODETIC_DATUM_ASSUMED_WGS84', 'INSTITUTION_MATCH_FUZZY', 'COLLECTION_MATCH_FUZZY'], 'modified': '2015-05-26T16:49:49.000+00:00', 'lastInterpreted': '2021-02-05T23:40:04.188+00:00', 'references': 'https://scan-bugs.org:443/portal/collections/individual/index.php?occid=12464371', 'license': 'http://creativecommons.org/publicdomain/zero/1.0/legalcode', 'identifiers': [], 'media': [], 'facts': [], 'relations': [], 'gadm': {'level0': {'gid': 'USA', 'name': 'United States'}, 'level1': {'gid': 'USA.45_1', 'name': 'Utah'}, 'level2': {'gid': 'USA.45.8_1', 'name': 'Emery'}}, 'institutionKey': '3c0aaa4a-b783-4a3f-9f11-9d9e4a2b6ae5', 'collectionKey': '17fe8464-2314-4bfd-a971-31d3c4ae0fbb', 'isInCluster': False, 'geodeticDatum': 'WGS84', 'class': 'Insecta', 'countryCode': 'US', 'recordedByIDs': [], 'identifiedByIDs': [], 'country': 'United States of America', 'identifier': '12464371', 'verbatimEventDate': '2000-4-26', 'http://unknown.org/recordId': 'urn:uuid:bfa120b3-0208-4ec3-9b59-2c24afb3d952', 'county': 'Emery', 'locality': 'Rattlesnake Butte', 'gbifID': '1292028765', 'collectionCode': 'CPMAB', 'occurrenceID': 'bfa120b3-0208-4ec3-9b59-2c24afb3d952', 'taxonID': '173433', 'catalogNumber': 'NAUF4A0038770', 'recordedBy': 'Tim Graham', 'institutionCode': 'NAUF', 'rights': 'http://creativecommons.org/publicdomain/zero/1.0/', 'startDayOfYear': '117', 'http://unknown.org/recordEnteredBy': 'emilymiller', 'identifiedBy': 'CPMAB', 'collectionID': 'c87a0756-fdd7-4cb6-9921-ca5774f8330e'}, {'key': 1800599704, 'datasetKey': '262f8270-f9c2-4bc6-a562-8ed71c0790e6', 'publishingOrgKey': '5ffa575c-fcd4-4583-9611-545f67b04316', 'installationKey': 'aafdc932-75f7-4414-9d40-faf72a525aec', 'publishingCountry': 'US', 'protocol': 'DWC_ARCHIVE', 'lastCrawled': '2020-12-10T08:57:45.723+00:00', 'lastParsed': '2020-12-15T22:36:52.313+00:00', 'crawlId': 127, 'hostingOrganizationKey': '5ffa575c-fcd4-4583-9611-545f67b04316', 'extensions': {}, 'basisOfRecord': 'PRESERVED_SPECIMEN', 'individualCount': 1, 'occurrenceStatus': 'PRESENT', 'lifeStage': 'Adult', 'taxonKey': 1340278, 'kingdomKey': 1, 'phylumKey': 54, 'classKey': 216, 'orderKey': 1457, 'familyKey': 4334, 'genusKey': 1340278, 'acceptedTaxonKey': 1340278, 'scientificName': 'Bombus Latreille, 1802', 'acceptedScientificName': 'Bombus Latreille, 1802', 'kingdom': 'Animalia', 'phylum': 'Arthropoda', 'order': 'Hymenoptera', 'family': 'Apidae', 'genus': 'Bombus', 'genericName': 'Bombus', 'taxonRank': 'GENUS', 'taxonomicStatus': 'ACCEPTED', 'dateIdentified': '2016-01-01T00:00:00', 'decimalLongitude': -81.1679, 'decimalLatitude': 28.6137, 'stateProvince': 'Florida', 'year': 2000, 'month': 4, 'day': 29, 'eventDate': '2000-04-29T00:00:00', 'issues': ['GEODETIC_DATUM_ASSUMED_WGS84', 'OCCURRENCE_STATUS_INFERRED_FROM_INDIVIDUAL_COUNT', 'INSTITUTION_MATCH_NONE', 'COLLECTION_MATCH_FUZZY'], 'modified': '2016-10-18T23:38:55.000+00:00', 'lastInterpreted': '2020-12-15T22:36:52.313+00:00', 'license': 'http://creativecommons.org/licenses/by/4.0/legalcode', 'identifiers': [], 'media': [], 'facts': [], 'relations': [], 'gadm': {'level0': {'gid': 'USA', 'name': 'United States'}, 'level1': {'gid': 'USA.10_1', 'name': 'Florida'}, 'level2': {'gid': 'USA.10.59_1', 'name': 'Seminole'}}, 'collectionKey': '39b0923c-3a78-4019-9cca-cd95bddaf1a5', 'isInCluster': False, 'geodeticDatum': 'WGS84', 'class': 'Insecta', 'countryCode': 'US', 'recordedByIDs': [], 'identifiedByIDs': [], 'country': 'United States of America', 'identifier': 'urn:lsid:biosci.ohio-state.edu:osuc_occurrences:UCFC__0__060__099', 'habitat': 'Scrub Oak/Saw Palmetto(burned)', 'scientificNameID': 'urn:lsid:biosci.ohio-state.edu:osuc_names:23188', 'verbatimEventDate': '29 April 2000', 'county': 'Seminole', 'locality': 'Econlockhatchee Wilderness Area, scrub oak/saw palmetto (burned), Seminole County, FL', 'georeferenceRemarks': 'Burned on I-29-2000', 'fieldNumber': 'UCFC Lot ID: 2049', 'gbifID': '1800599704', 'language': 'en', 'collectionCode': 'Arthropods', 'occurrenceID': 'urn:lsid:biosci.ohio-state.edu:osuc_occurrences:UCFC__0__060__099', 'catalogNumber': 'UCFC 0 060 099', 'recordedBy': 'Fullerton, S. M. (Stuart M.), Russell, P. J. (Phillip J.) & Smith, T. R. (Trevor Randall)', 'institutionCode': 'University of Central Florida Collection of Arthopods (UCFC)', 'fieldNotes': 'lot_id: 2049', 'samplingProtocol': 'Malaise trap', 'georeferenceSources': 'GPS Coord'}], 'facets': []}\n"
     ]
    }
   ],
   "source": [
    "# import your library\n",
    "import records\n",
    "\n",
    "# get an instance given some query parameters\n",
    "rec = records.Records(genusKey=1340278, year=\"1990,2000\")\n",
    "\n",
    "# access the dataframe results\n",
    "print(rec.get_single_batch())"
   ]
  },
  {
   "cell_type": "markdown",
   "metadata": {},
   "source": [
    "### [Optional] Advanced challenge\n",
    "If you accomplished this task easily then try to add an additional function to your package to allow entering the genus as a string, such that your code will search the taxonomic database to automatically find the integer genusKey to use in the occurrence database query, instead of requiring you to enter it as a numeric genusKey."
   ]
  },
  {
   "cell_type": "markdown",
   "metadata": {},
   "source": [
    "### Assessment\n",
    "You will be graded on the `records` class package in your GitHub repo. This notebook is only for instructions and learning and does not need to be submitted."
   ]
  }
 ],
 "metadata": {
  "kernelspec": {
   "display_name": "Python 3",
   "language": "python",
   "name": "python3"
  },
  "language_info": {
   "codemirror_mode": {
    "name": "ipython",
    "version": 3
   },
   "file_extension": ".py",
   "mimetype": "text/x-python",
   "name": "python",
   "nbconvert_exporter": "python",
   "pygments_lexer": "ipython3",
   "version": "3.8.3"
  }
 },
 "nbformat": 4,
 "nbformat_minor": 2
}
